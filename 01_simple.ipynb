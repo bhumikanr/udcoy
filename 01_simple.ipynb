{
  "nbformat": 4,
  "nbformat_minor": 0,
  "metadata": {
    "colab": {
      "name": "01_simple.ipynb",
      "provenance": [],
      "include_colab_link": true
    },
    "kernelspec": {
      "name": "python3",
      "display_name": "Python 3"
    }
  },
  "cells": [
    {
      "cell_type": "markdown",
      "metadata": {
        "id": "view-in-github",
        "colab_type": "text"
      },
      "source": [
        "<a href=\"https://colab.research.google.com/github/bhumikanr/udcoy/blob/main/01_simple.ipynb\" target=\"_parent\"><img src=\"https://colab.research.google.com/assets/colab-badge.svg\" alt=\"Open In Colab\"/></a>"
      ]
    },
    {
      "cell_type": "markdown",
      "source": [
        "reverse number"
      ],
      "metadata": {
        "id": "FBqyw4V4rqym"
      }
    },
    {
      "cell_type": "code",
      "metadata": {
        "id": "6kfdjeSwTN2p",
        "outputId": "9d782d4e-deff-4da1-d979-36bfdd3ac420",
        "colab": {
          "base_uri": "https://localhost:8080/"
        }
      },
      "source": [
        "%%writefile hell.c\n",
        "#include<stdio.h>\n",
        "int main () {\n",
        "    int n,a;\n",
        "\n",
        "    long int revnum=0;\n",
        "    printf(\"enter the five degits number(less than 32767)\\n\");\n",
        "    scanf(\"%d\",&n);\n",
        "\n",
        "        a=n%10;\n",
        "        revnum=revnum+a*10000;\n",
        "        n=n/10;\n",
        "\n",
        "        a=n%10;\n",
        "        revnum=revnum+a*1000;\n",
        "        n=n/10;\n",
        "\n",
        "        a=n%10;\n",
        "        revnum=revnum+a*100;\n",
        "        n=n/10;\n",
        "\n",
        "        a=n%10;\n",
        "        revnum=revnum+a*10;\n",
        "        n=n/10;\n",
        "\n",
        "        a=n%10;\n",
        "        revnum=revnum+a;\n",
        "\n",
        "     printf(\"the reverse number is %ld\",revnum);\n",
        "}"
      ],
      "execution_count": null,
      "outputs": [
        {
          "output_type": "stream",
          "name": "stdout",
          "text": [
            "Writing hell.c\n"
          ]
        }
      ]
    },
    {
      "cell_type": "code",
      "metadata": {
        "id": "I1QFktLNUGD1",
        "outputId": "e504b81d-8edc-4e30-c8ad-d3ca16e1ff9c",
        "colab": {
          "base_uri": "https://localhost:8080/"
        }
      },
      "source": [
        "!ls"
      ],
      "execution_count": null,
      "outputs": [
        {
          "output_type": "stream",
          "name": "stdout",
          "text": [
            "hell.c\tsample_data\n"
          ]
        }
      ]
    },
    {
      "cell_type": "code",
      "metadata": {
        "id": "eKihNbD_UHYB",
        "outputId": "ccf44fcf-65fc-4308-dc0f-7528dcbcbe4a",
        "colab": {
          "base_uri": "https://localhost:8080/",
          "height": 107
        }
      },
      "source": [
        "!gcc --version"
      ],
      "execution_count": null,
      "outputs": [
        {
          "output_type": "stream",
          "text": [
            "gcc (Ubuntu 7.4.0-1ubuntu1~18.04) 7.4.0\n",
            "Copyright (C) 2017 Free Software Foundation, Inc.\n",
            "This is free software; see the source for copying conditions.  There is NO\n",
            "warranty; not even for MERCHANTABILITY or FITNESS FOR A PARTICULAR PURPOSE.\n",
            "\n"
          ],
          "name": "stdout"
        }
      ]
    },
    {
      "cell_type": "code",
      "metadata": {
        "id": "OT9t0yXdUNzI"
      },
      "source": [
        "!gcc hell.c"
      ],
      "execution_count": null,
      "outputs": []
    },
    {
      "cell_type": "code",
      "metadata": {
        "id": "0uoBCc8UUXyn",
        "outputId": "39ed37a1-96ce-41bf-b32a-546c4653fdbb",
        "colab": {
          "base_uri": "https://localhost:8080/"
        }
      },
      "source": [
        "!./a.out"
      ],
      "execution_count": null,
      "outputs": [
        {
          "output_type": "stream",
          "name": "stdout",
          "text": [
            "enter the five degits number(less than 32767)\n",
            "55487\n",
            "the reverse number is 78455"
          ]
        }
      ]
    },
    {
      "cell_type": "markdown",
      "source": [
        " 2 Matrix multiplication"
      ],
      "metadata": {
        "id": "rvu3Jmd2t47t"
      }
    },
    {
      "cell_type": "code",
      "source": [
        "%%writefile hello.c\n",
        "#include <stdio.h>\n",
        "\n",
        "int main() {\n",
        "    int a[10][10], b[10][10], result[10][10];\n",
        "    int r1, c1, r2, c2;\n",
        "\n",
        "\n",
        "    printf(\"Enter rows and columns for first matrix: \");\n",
        "    scanf(\"%d%d\", &r1, &c1);\n",
        "\n",
        "    printf(\"Enter rows and columns for second matrix: \");\n",
        "    scanf(\"%d%d\", &r2, &c2);\n",
        "\n",
        "\n",
        "    if (c1 != r2) {\n",
        "        printf(\"Matrix multiplication not possible.\\n\");\n",
        "        return 0;\n",
        "    }\n",
        "\n",
        "\n",
        "    printf(\"Enter elements of first matrix:\\n\");\n",
        "    for (int i = 0; i < r1; i++)\n",
        "        for (int j = 0; j < c1; j++)\n",
        "            scanf(\"%d\", &a[i][j]);\n",
        "\n",
        "\n",
        "    printf(\"Enter elements of second matrix:\\n\");\n",
        "    for (int i = 0; i < r2; i++)\n",
        "        for (int j = 0; j < c2; j++)\n",
        "            scanf(\"%d\", &b[i][j]);\n",
        "\n",
        "    for (int i = 0; i < r1; i++) {\n",
        "        for (int j = 0; j < c2; j++) {\n",
        "            result[i][j] = 0;\n",
        "            for (int k = 0; k < c1; k++) {\n",
        "                result[i][j] += a[i][k] * b[k][j];\n",
        "            }\n",
        "        }\n",
        "    }\n",
        "\n",
        "\n",
        "    printf(\"Resultant matrix:\\n\");\n",
        "    for (int i = 0; i < r1; i++) {\n",
        "        for (int j = 0; j < c2; j++) {\n",
        "            printf(\"%d \", result[i][j]);\n",
        "        }\n",
        "        printf(\"\\n\");\n",
        "    }\n",
        "\n",
        "    return 0;\n",
        "}\n"
      ],
      "metadata": {
        "colab": {
          "base_uri": "https://localhost:8080/"
        },
        "id": "JprsaKW6uBuL",
        "outputId": "149f530b-cf6f-41b8-9f2f-49b624377a45"
      },
      "execution_count": null,
      "outputs": [
        {
          "output_type": "stream",
          "name": "stdout",
          "text": [
            "Writing hello.c\n"
          ]
        }
      ]
    },
    {
      "cell_type": "code",
      "source": [
        "!ls"
      ],
      "metadata": {
        "colab": {
          "base_uri": "https://localhost:8080/"
        },
        "id": "TzH9ofKqubbv",
        "outputId": "f118fe32-2c9a-4563-f1dd-493576cbe51d"
      },
      "execution_count": null,
      "outputs": [
        {
          "output_type": "stream",
          "name": "stdout",
          "text": [
            "hello.c  sample_data\n"
          ]
        }
      ]
    },
    {
      "cell_type": "code",
      "source": [
        "!gcc hello.c"
      ],
      "metadata": {
        "id": "0CC1cwiVuhG4"
      },
      "execution_count": null,
      "outputs": []
    },
    {
      "cell_type": "code",
      "source": [
        "!./a.out"
      ],
      "metadata": {
        "colab": {
          "base_uri": "https://localhost:8080/"
        },
        "id": "LOFfWZ-8usk2",
        "outputId": "6b1d473d-a238-403d-c614-888012559c05"
      },
      "execution_count": null,
      "outputs": [
        {
          "output_type": "stream",
          "name": "stdout",
          "text": [
            "Enter rows and columns for first matrix: 2 3\n",
            "Enter rows and columns for second matrix: 3 2\n",
            "Enter elements of first matrix:\n",
            "1 2 3 \n",
            "4 5 6\n",
            "Enter elements of second matrix:\n",
            "7 8\n",
            "9 3\n",
            "12 13\n",
            "Resultant matrix:\n",
            "61 53 \n",
            "145 125 \n"
          ]
        }
      ]
    },
    {
      "cell_type": "markdown",
      "source": [
        " 3 string"
      ],
      "metadata": {
        "id": "gklfrQXTvsus"
      }
    },
    {
      "cell_type": "code",
      "source": [
        "%%writefile p.c\n",
        "#include <stdio.h>\n",
        "\n",
        "int main() {\n",
        "    char s[80];\n",
        "    int i = 0;\n",
        "\n",
        "    printf(\"Enter the string: \");\n",
        "    fgets(s, sizeof(s), stdin);\n",
        "\n",
        "    while (s[i] != '\\0') {\n",
        "        if (s[i] == 'a' || s[i] == 'e' || s[i] == 'i' || s[i] == 'o' || s[i] == 'u')\n",
        "            putchar(' ');\n",
        "        else\n",
        "            putchar(s[i]);\n",
        "        i++;\n",
        "    }\n",
        "\n",
        "    return 0;\n",
        "}\n"
      ],
      "metadata": {
        "colab": {
          "base_uri": "https://localhost:8080/"
        },
        "id": "Yiq2uiu2woqZ",
        "outputId": "24e3c681-563f-43d7-d60d-e3c9047a1490"
      },
      "execution_count": null,
      "outputs": [
        {
          "output_type": "stream",
          "name": "stdout",
          "text": [
            "Writing p.c\n"
          ]
        }
      ]
    },
    {
      "cell_type": "code",
      "source": [
        "!ls"
      ],
      "metadata": {
        "colab": {
          "base_uri": "https://localhost:8080/"
        },
        "id": "-4QJuXfAwsTg",
        "outputId": "909de950-e0b1-4389-81ba-8d6de0cd0fce"
      },
      "execution_count": null,
      "outputs": [
        {
          "output_type": "stream",
          "name": "stdout",
          "text": [
            "a.out  p.c  sample_data  sar.c\n"
          ]
        }
      ]
    },
    {
      "cell_type": "code",
      "source": [
        "!gcc p.c"
      ],
      "metadata": {
        "id": "ufV5M253wz0h"
      },
      "execution_count": null,
      "outputs": []
    },
    {
      "cell_type": "code",
      "source": [
        "!./a.out"
      ],
      "metadata": {
        "colab": {
          "base_uri": "https://localhost:8080/"
        },
        "id": "i_6Rbuw1xAI_",
        "outputId": "ff0f6782-87c4-45ab-d332-f22d9517f341"
      },
      "execution_count": null,
      "outputs": [
        {
          "output_type": "stream",
          "name": "stdout",
          "text": [
            "Enter the string: bhumika\n",
            "bh m k \n"
          ]
        }
      ]
    },
    {
      "cell_type": "markdown",
      "source": [
        "4 sarting"
      ],
      "metadata": {
        "id": "yjun9kj5B7qj"
      }
    },
    {
      "cell_type": "code",
      "source": [
        "%%writefile sar.c\n",
        "#include<stdio.h>\n",
        "int main()\n",
        "{\n",
        "  int a[10],i,j,k,t;\n",
        "  printf(\"enter number \\n\");\n",
        "  for(i=0;i<=9;i++)\n",
        "  scanf(\"%d\",&a[i]);\n",
        "  for(i=0;i<=9;i++)\n",
        "  {\n",
        "    t=a[i];\n",
        "    for(j=0;j<=9;j++)\n",
        "    {\n",
        "      if(k<a[j])\n",
        "      {\n",
        "        for(k=1;k<=j;j--)\n",
        "        a[k]=a[k-1];\n",
        "        a[j]=t;\n",
        "        break;\n",
        "      }\n",
        "\n",
        "\n",
        "    }\n",
        "  }\n",
        "  printf(\"sarted number \\n\");\n",
        "  for(i=0;i<=9;i++)\n",
        "  {\n",
        "    printf(\"%d \",a[i]);\n",
        "  }\n",
        "}"
      ],
      "metadata": {
        "colab": {
          "base_uri": "https://localhost:8080/"
        },
        "id": "-eYbDhMrB6aY",
        "outputId": "31295366-f235-42b7-f47d-009cd0422188"
      },
      "execution_count": null,
      "outputs": [
        {
          "output_type": "stream",
          "name": "stdout",
          "text": [
            "Overwriting sar.c\n"
          ]
        }
      ]
    },
    {
      "cell_type": "code",
      "source": [
        "!ls"
      ],
      "metadata": {
        "colab": {
          "base_uri": "https://localhost:8080/"
        },
        "id": "wi5xerUHCCAl",
        "outputId": "54b5a4ab-1b56-4e94-f67d-cf41850f28db"
      },
      "execution_count": null,
      "outputs": [
        {
          "output_type": "stream",
          "name": "stdout",
          "text": [
            "sample_data  sar.c\n"
          ]
        }
      ]
    },
    {
      "cell_type": "code",
      "source": [
        "!gcc sar.c\n"
      ],
      "metadata": {
        "id": "P7JlmO-7CGeI"
      },
      "execution_count": null,
      "outputs": []
    },
    {
      "cell_type": "code",
      "source": [
        "!./a.out"
      ],
      "metadata": {
        "colab": {
          "base_uri": "https://localhost:8080/"
        },
        "id": "2d7qtCSTCMHN",
        "outputId": "94670ca8-c182-4227-82e6-0e0ef47203d1"
      },
      "execution_count": null,
      "outputs": [
        {
          "output_type": "stream",
          "name": "stdout",
          "text": [
            "enter number \n",
            "9\n",
            "6\n",
            "8\n",
            "2\n",
            "6\n",
            "7\n",
            "25\n",
            "36\n",
            "56\n",
            "45\n",
            "sarted number \n",
            "45 6 8 2 6 7 25 36 56 45 "
          ]
        }
      ]
    },
    {
      "cell_type": "markdown",
      "source": [
        "perfect square"
      ],
      "metadata": {
        "id": "wswn4jBsbQgh"
      }
    },
    {
      "cell_type": "code",
      "source": [
        "%%writefile prg.c\n",
        "\n",
        "#include <stdio.h>\n",
        "#include <math.h>\n",
        "\n",
        "int main() {\n",
        "    for (int num = 1000; num <= 9999; num++) {\n",
        "        int root = (int)sqrt(num);\n",
        "        if (root * root == num) {\n",
        "            int thousands = num / 1000;\n",
        "            int hundreds = (num / 100) % 10;\n",
        "            int tens = (num / 10) % 10;\n",
        "            int ones = num % 10;\n",
        "\n",
        "\n",
        "            if (thousands == hundreds && tens == ones && thousands != tens) {\n",
        "                printf(\"Found AABB perfect square: %d\\n\", num);\n",
        "            }\n",
        "        }\n",
        "    }\n",
        "    return 0;\n",
        "}"
      ],
      "metadata": {
        "colab": {
          "base_uri": "https://localhost:8080/"
        },
        "id": "J4bm9KrAbT1T",
        "outputId": "8b7db82a-5098-4764-fb88-cb9cd2cc726f"
      },
      "execution_count": null,
      "outputs": [
        {
          "output_type": "stream",
          "name": "stdout",
          "text": [
            "Overwriting prg.c\n"
          ]
        }
      ]
    },
    {
      "cell_type": "code",
      "source": [
        "!ls"
      ],
      "metadata": {
        "colab": {
          "base_uri": "https://localhost:8080/"
        },
        "id": "Dj2buxivblye",
        "outputId": "cc28e93d-edbb-469a-f56b-25c66fd1b4e4"
      },
      "execution_count": null,
      "outputs": [
        {
          "output_type": "stream",
          "name": "stdout",
          "text": [
            "prg.c  sample_data\n"
          ]
        }
      ]
    },
    {
      "cell_type": "code",
      "source": [
        "!gcc  prg.c -lm"
      ],
      "metadata": {
        "id": "9Z96mZirbrFG"
      },
      "execution_count": null,
      "outputs": []
    },
    {
      "cell_type": "code",
      "source": [
        "!./a.out"
      ],
      "metadata": {
        "colab": {
          "base_uri": "https://localhost:8080/"
        },
        "id": "no4s5Q95byd8",
        "outputId": "c6a6d776-18c4-4272-bd7f-f6603cc20336"
      },
      "execution_count": null,
      "outputs": [
        {
          "output_type": "stream",
          "name": "stdout",
          "text": [
            "Found AABB perfect square: 7744\n"
          ]
        }
      ]
    },
    {
      "cell_type": "markdown",
      "source": [],
      "metadata": {
        "id": "PSrN2Xz0d5iN"
      }
    },
    {
      "cell_type": "code",
      "source": [
        "%%writefile pr.c\n",
        "\n",
        "#include<stdio.h>\n",
        "int main()\n",
        "{\n",
        "    int i,j,k,l;\n",
        "    for(l=1;l<=10;l++)\n",
        "    for(k=1;k<l;k++)\n",
        "    {\n",
        "         for(j=1;j<k;j++)\n",
        "         {\n",
        "             for(i=1;i<j;i++)\n",
        "             {\n",
        "                 if(i+j+k==l)\n",
        "                 printf(\"%d %d %d\\n\",i,j,k);\n",
        "             }\n",
        "         }\n",
        "    }\n",
        "    return 0;\n",
        "}"
      ],
      "metadata": {
        "colab": {
          "base_uri": "https://localhost:8080/"
        },
        "id": "Ogm1pO-XeBsJ",
        "outputId": "4c176383-7024-4a4a-b2d5-0541ce21da8d"
      },
      "execution_count": null,
      "outputs": [
        {
          "output_type": "stream",
          "name": "stdout",
          "text": [
            "Writing pr.c\n"
          ]
        }
      ]
    },
    {
      "cell_type": "code",
      "source": [
        "!ls"
      ],
      "metadata": {
        "colab": {
          "base_uri": "https://localhost:8080/"
        },
        "id": "mw5jr67UfrTX",
        "outputId": "80dd901f-55a9-4838-e0c2-54e714cb74dc"
      },
      "execution_count": null,
      "outputs": [
        {
          "output_type": "stream",
          "name": "stdout",
          "text": [
            "pr.c  sample_data\n"
          ]
        }
      ]
    },
    {
      "cell_type": "code",
      "source": [
        "!gcc  pr.c -lm"
      ],
      "metadata": {
        "id": "sxO0u4V3fxz-"
      },
      "execution_count": null,
      "outputs": []
    },
    {
      "cell_type": "code",
      "source": [
        "!./a.out"
      ],
      "metadata": {
        "colab": {
          "base_uri": "https://localhost:8080/"
        },
        "id": "_Jpa0Tkhf5Lk",
        "outputId": "a63f9256-4492-478b-989a-1fdacb9cb34d"
      },
      "execution_count": null,
      "outputs": [
        {
          "output_type": "stream",
          "name": "stdout",
          "text": [
            "1 2 3\n",
            "1 2 4\n",
            "1 3 4\n",
            "1 2 5\n",
            "2 3 4\n",
            "1 3 5\n",
            "1 2 6\n",
            "2 3 5\n",
            "1 4 5\n",
            "1 3 6\n",
            "1 2 7\n"
          ]
        }
      ]
    },
    {
      "cell_type": "markdown",
      "source": [
        "pythagorean triples c program"
      ],
      "metadata": {
        "id": "zJrGkPvjXmua"
      }
    },
    {
      "cell_type": "code",
      "source": [
        "%%writefile py.c\n",
        "#include <stdio.h>\n",
        "\n",
        "int main() {\n",
        "    int limit, a, b, c;\n",
        "\n",
        "    printf(\"Enter the upper limit for the triplets: \");\n",
        "    scanf(\"%d\", &limit);\n",
        "\n",
        "    printf(\"Pythagorean Triplets up to %d:\\n\", limit);\n",
        "    for (a = 1; a <= limit; a++) {\n",
        "        for (b = a; b <= limit; b++) {\n",
        "            for (c = b; c <= limit; c++) {\n",
        "                if (a * a + b * b == c * c) {\n",
        "                    printf(\"(%d, %d, %d)\\n\", a, b, c);\n",
        "                }\n",
        "            }\n",
        "        }\n",
        "    }\n",
        "\n",
        "    return 0;\n",
        "}\n"
      ],
      "metadata": {
        "id": "WDrAAL2bayA8",
        "outputId": "f1db28ca-aa8f-4707-8f3b-f1f3d3a4eb66",
        "colab": {
          "base_uri": "https://localhost:8080/"
        }
      },
      "execution_count": null,
      "outputs": [
        {
          "output_type": "stream",
          "name": "stdout",
          "text": [
            "Writing py.c\n"
          ]
        }
      ]
    },
    {
      "cell_type": "code",
      "source": [
        "!ls"
      ],
      "metadata": {
        "id": "vcHydY5RbU-8",
        "outputId": "9221493c-304c-4f0e-a423-67d19e097fbb",
        "colab": {
          "base_uri": "https://localhost:8080/"
        }
      },
      "execution_count": null,
      "outputs": [
        {
          "output_type": "stream",
          "name": "stdout",
          "text": [
            "py.c  sample_data\n"
          ]
        }
      ]
    },
    {
      "cell_type": "code",
      "source": [
        "!gcc py.c"
      ],
      "metadata": {
        "id": "bLyn5y5rbYrK"
      },
      "execution_count": null,
      "outputs": []
    },
    {
      "cell_type": "code",
      "source": [
        "!./a.out"
      ],
      "metadata": {
        "id": "c2KF1QqcbgUu",
        "outputId": "5764b28e-e652-4d2b-87a1-ab77bcb6c906",
        "colab": {
          "base_uri": "https://localhost:8080/"
        }
      },
      "execution_count": null,
      "outputs": [
        {
          "output_type": "stream",
          "name": "stdout",
          "text": [
            "Enter the upper limit for the triplets: 20\n",
            "Pythagorean Triplets up to 20:\n",
            "(3, 4, 5)\n",
            "(5, 12, 13)\n",
            "(6, 8, 10)\n",
            "(8, 15, 17)\n",
            "(9, 12, 15)\n",
            "(12, 16, 20)\n"
          ]
        }
      ]
    },
    {
      "cell_type": "markdown",
      "source": [
        "Pythagorean Triplet from a and b\n"
      ],
      "metadata": {
        "id": "ZWSjPp2GcBOb"
      }
    },
    {
      "cell_type": "code",
      "source": [
        "%%writefile pt.c\n",
        "#include <stdio.h>\n",
        "int getreverse(int n);\n",
        "\n",
        "int main()\n",
        "{\n",
        "  int num, revnum, sqnum, revsqnum;\n",
        "  for(num=10; num<=100;num++)\n",
        "  {\n",
        "    sqnum=num*num;\n",
        "    revsqnum=getreverse(sqnum);\n",
        "    printf(\"%d,%d,%d,%d\",num, revnum,sqnum,revsqnum);\n",
        "    }\n",
        "\n",
        "}\n",
        "int getreverse(int n)\n",
        "{\n",
        "  int d1,d2,d3,d4,d5,rnum;\n",
        "  d5=n%10;\n",
        "  n=n/10;\n",
        "  d4=n%10;\n",
        "  n=n/10;\n",
        "  d3=n%10;\n",
        "  n=n/10;\n",
        "  d2=n%10;\n",
        "  n=n/10;\n",
        "  d1=n%10;\n",
        "  rnum=d5*10000+d4*1000+d3*100+d2*10+d1;\n",
        "  while(rnum%10==0)\n",
        "  rnum/10;\n",
        "\n",
        "  return(rnum);\n",
        "}\n",
        "\n",
        "\n",
        "\n"
      ],
      "metadata": {
        "id": "8Lgrl7zJeLta",
        "outputId": "53b230ac-f2ca-4ab7-db9d-6b5582bd0015",
        "colab": {
          "base_uri": "https://localhost:8080/"
        }
      },
      "execution_count": null,
      "outputs": [
        {
          "output_type": "stream",
          "name": "stdout",
          "text": [
            "Writing pt.c\n"
          ]
        }
      ]
    },
    {
      "cell_type": "code",
      "source": [
        "!ls"
      ],
      "metadata": {
        "id": "3ivRqF67eeef",
        "outputId": "7d863c68-cec7-4824-e2de-33afc3037fc5",
        "colab": {
          "base_uri": "https://localhost:8080/"
        }
      },
      "execution_count": null,
      "outputs": [
        {
          "output_type": "stream",
          "name": "stdout",
          "text": [
            "a.out  pr.c  pt.c  sample_data\n"
          ]
        }
      ]
    },
    {
      "cell_type": "code",
      "source": [
        "!gcc pt.c"
      ],
      "metadata": {
        "id": "ykmucgqCegcG"
      },
      "execution_count": null,
      "outputs": []
    },
    {
      "cell_type": "code",
      "source": [
        "!./a.out"
      ],
      "metadata": {
        "id": "lmQSceysepcB"
      },
      "execution_count": null,
      "outputs": []
    },
    {
      "cell_type": "markdown",
      "source": [
        "Pythagorean Triplet positive intreger"
      ],
      "metadata": {
        "id": "hiITbHYOfnX1"
      }
    },
    {
      "cell_type": "code",
      "source": [
        "%%writefile ptf.c\n",
        "#include <stdio.h>\n",
        "int main()\n",
        "{\n",
        "  int a,b;\n",
        "  printf(\"enter a positive integer:\");\n",
        "  scanf(\"%d\",&a);\n",
        "  b = a +1;\n",
        "  printf(\"result:%d\\n\",b);\n",
        "\n",
        "  return (0);\n",
        "  }"
      ],
      "metadata": {
        "id": "GyAsywygfopq",
        "outputId": "6b5fcba3-1b40-404a-a60a-f55dd3c43267",
        "colab": {
          "base_uri": "https://localhost:8080/"
        }
      },
      "execution_count": null,
      "outputs": [
        {
          "output_type": "stream",
          "name": "stdout",
          "text": [
            "Overwriting ptf.c\n"
          ]
        }
      ]
    },
    {
      "cell_type": "code",
      "source": [
        "!ls"
      ],
      "metadata": {
        "id": "8evb-YVvf38Y",
        "outputId": "4db5bcf5-6717-4857-a934-0b844d05bccf",
        "colab": {
          "base_uri": "https://localhost:8080/"
        }
      },
      "execution_count": null,
      "outputs": [
        {
          "output_type": "stream",
          "name": "stdout",
          "text": [
            "a.out  pt.c  ptf.c  sample_data\n"
          ]
        }
      ]
    },
    {
      "cell_type": "code",
      "source": [
        "!gcc ptf.c"
      ],
      "metadata": {
        "id": "60ulgjHmf7Ft"
      },
      "execution_count": null,
      "outputs": []
    },
    {
      "cell_type": "code",
      "source": [
        "!./a.out"
      ],
      "metadata": {
        "id": "ZfXFpZtwf_6R",
        "outputId": "ecd1b69e-b6b4-45a3-8dfc-3d66fb0e9426",
        "colab": {
          "base_uri": "https://localhost:8080/"
        }
      },
      "execution_count": null,
      "outputs": [
        {
          "output_type": "stream",
          "name": "stdout",
          "text": [
            "enter a positive integer:20\n",
            "result:21\n"
          ]
        }
      ]
    },
    {
      "cell_type": "markdown",
      "source": [
        "fibonaci\n"
      ],
      "metadata": {
        "id": "3CPmdfl6yhiC"
      }
    },
    {
      "cell_type": "code",
      "source": [
        "%%writefile prgf.c\n",
        "#include<stdio.h>\n",
        "void fibo(int old,int current);\n",
        "int main()\n",
        "{\n",
        "  int old=0,current=1,numterm;\n",
        "  printf(\"fibonaci sequency:\");\n",
        "  printf(\"%d %d\",old,current);\n",
        "  fibo(old,current);\n",
        "}\n",
        "void fibo(int old,int current)\n",
        "{\n",
        "  static int numterms=2;\n",
        "  int numterm;\n",
        "  if(numterm<20)\n",
        "{\n",
        "numterm = old+current;\n",
        "printf(\"%d\",numterm);\n",
        "numterm++;\n",
        "fibo(current,numterm);\n",
        "}\n",
        "else\n",
        "\n",
        "return ;\n",
        "}"
      ],
      "metadata": {
        "id": "Xj_i4SssyuRi",
        "outputId": "a098085a-c57e-4f39-e21e-1e6a71f2246f",
        "colab": {
          "base_uri": "https://localhost:8080/"
        }
      },
      "execution_count": null,
      "outputs": [
        {
          "output_type": "stream",
          "name": "stdout",
          "text": [
            "Overwriting prgf.c\n"
          ]
        }
      ]
    },
    {
      "cell_type": "code",
      "source": [
        "!ls"
      ],
      "metadata": {
        "id": "pXnJ8rHKyxGP",
        "outputId": "8ce8a843-4784-492f-c598-03a90101aa63",
        "colab": {
          "base_uri": "https://localhost:8080/"
        }
      },
      "execution_count": null,
      "outputs": [
        {
          "output_type": "stream",
          "name": "stdout",
          "text": [
            "a.out  pr.c  prgf.c  sample_data\n"
          ]
        }
      ]
    },
    {
      "cell_type": "code",
      "source": [
        "!gcc prgf.c"
      ],
      "metadata": {
        "id": "HphcNuhwyzLi"
      },
      "execution_count": null,
      "outputs": []
    },
    {
      "cell_type": "code",
      "source": [
        "!./a.out"
      ],
      "metadata": {
        "id": "QUiKADUpzTi-",
        "outputId": "d966aba2-fe8c-4c7c-ed68-8f34117544a6",
        "colab": {
          "base_uri": "https://localhost:8080/"
        }
      },
      "execution_count": null,
      "outputs": [
        {
          "output_type": "stream",
          "name": "stdout",
          "text": [
            "fibonaci sequency:0 1136"
          ]
        }
      ]
    },
    {
      "cell_type": "markdown",
      "source": [
        "before interface\n"
      ],
      "metadata": {
        "id": "AsMbJDnXpjFE"
      }
    },
    {
      "cell_type": "code",
      "source": [
        "%%writefile pb.c\n",
        "#include<stdio.h>\n",
        "int main()\n",
        "{\n",
        "  int a,b;\n",
        "  printf(\"enter the value of a&b,\");\n",
        "  scanf(\"%d,%d\",&a,&b);\n",
        "  printf(\"befour integer \\n\");\n",
        "  printf(\"a=%d b=%d\",a,b);\n",
        "  printf(\"aftre integer \\n\");\n",
        "  printf(\"a=%d b=%d\",a,b);\n",
        "}\n"
      ],
      "metadata": {
        "id": "OP3jx1BSpmGc",
        "outputId": "850db855-c3c4-4e60-fa7b-25ba9e61ce29",
        "colab": {
          "base_uri": "https://localhost:8080/"
        }
      },
      "execution_count": null,
      "outputs": [
        {
          "output_type": "stream",
          "name": "stdout",
          "text": [
            "Overwriting pb.c\n"
          ]
        }
      ]
    },
    {
      "cell_type": "code",
      "source": [
        "!ls\n"
      ],
      "metadata": {
        "id": "rowZkQfU8xA7",
        "outputId": "5dd0dc15-fe55-4fdb-f8ea-5185a04094c8",
        "colab": {
          "base_uri": "https://localhost:8080/"
        }
      },
      "execution_count": null,
      "outputs": [
        {
          "output_type": "stream",
          "name": "stdout",
          "text": [
            "a.out  pb.c  pt.c  ptf.c  sample_data\n"
          ]
        }
      ]
    },
    {
      "cell_type": "code",
      "source": [
        "!gcc pb.c"
      ],
      "metadata": {
        "id": "s6fgOcBv8zp5"
      },
      "execution_count": null,
      "outputs": []
    },
    {
      "cell_type": "code",
      "source": [
        "!./a.out"
      ],
      "metadata": {
        "id": "tvboCqIk9D1U",
        "outputId": "2ac63f89-ed23-4643-c817-100c1eafcdad",
        "colab": {
          "base_uri": "https://localhost:8080/"
        }
      },
      "execution_count": null,
      "outputs": [
        {
          "output_type": "stream",
          "name": "stdout",
          "text": [
            "enter the value of a&b,3 4\n",
            "befour integer \n",
            "a=3 b=0aftre integer \n",
            "a=3 b=0"
          ]
        }
      ]
    },
    {
      "cell_type": "markdown",
      "source": [
        "reverse order"
      ],
      "metadata": {
        "id": "zDr6A_nZ6UJM"
      }
    },
    {
      "cell_type": "code",
      "source": [
        "%%writefile pr.c\n",
        "#include <stdio.h>\n",
        "\n",
        "int main() {\n",
        "    int original[] = {1, 2, 3, 4, 5};\n",
        "    int size = sizeof(original) / sizeof(original[0]);\n",
        "    int reversed[size];\n",
        "\n",
        "    for(int i = 0; i < size; i++) {\n",
        "        reversed[i] = original[size - 1 - i];\n",
        "    }\n",
        "    printf(\"Reversed array: \");\n",
        "    for(int i = 0; i < size; i++) {\n",
        "        printf(\"%d \", reversed[i]);\n",
        "    }\n",
        "\n",
        "    return 0;\n",
        "}"
      ],
      "metadata": {
        "id": "bn2iPwj16aYQ",
        "outputId": "7412ddc3-7bc6-4c2f-a52e-207555e48982",
        "colab": {
          "base_uri": "https://localhost:8080/"
        }
      },
      "execution_count": null,
      "outputs": [
        {
          "output_type": "stream",
          "name": "stdout",
          "text": [
            "Writing pr.c\n"
          ]
        }
      ]
    },
    {
      "cell_type": "code",
      "source": [
        "!ls"
      ],
      "metadata": {
        "id": "7R1CdKjp6k0K",
        "outputId": "090792da-5b14-4cb9-ba3f-2d704dc98396",
        "colab": {
          "base_uri": "https://localhost:8080/"
        }
      },
      "execution_count": null,
      "outputs": [
        {
          "output_type": "stream",
          "name": "stdout",
          "text": [
            "pr.c  sample_data\n"
          ]
        }
      ]
    },
    {
      "cell_type": "code",
      "source": [
        "!gcc pr.c"
      ],
      "metadata": {
        "id": "-KYhGWlF6oF5"
      },
      "execution_count": null,
      "outputs": []
    },
    {
      "cell_type": "code",
      "source": [
        "!./a.out"
      ],
      "metadata": {
        "id": "6_C38MaX6uap",
        "outputId": "a1948bcb-65f1-4378-c455-fc21d1e1382c",
        "colab": {
          "base_uri": "https://localhost:8080/"
        }
      },
      "execution_count": null,
      "outputs": [
        {
          "output_type": "stream",
          "name": "stdout",
          "text": [
            "Reversed array: 5 4 3 2 1 "
          ]
        }
      ]
    },
    {
      "cell_type": "markdown",
      "source": [
        "counting digites"
      ],
      "metadata": {
        "id": "C2EZCsEvVbnZ"
      }
    },
    {
      "cell_type": "code",
      "source": [
        "%%writefile pp.c\n",
        "#include<stdio.h>\n",
        "#include<math.h>\n",
        "int main()\n",
        "{\n",
        "  printf(\"%6f\\n\",M_PI);\n",
        "  return(0);\n",
        "}"
      ],
      "metadata": {
        "colab": {
          "base_uri": "https://localhost:8080/"
        },
        "id": "9Zo_TpfIMY0d",
        "outputId": "7a7f2a29-6d8b-482b-f322-dc5b1c06c8e2"
      },
      "execution_count": 6,
      "outputs": [
        {
          "output_type": "stream",
          "name": "stdout",
          "text": [
            "Overwriting pp.c\n"
          ]
        }
      ]
    },
    {
      "cell_type": "code",
      "source": [
        "!ls\n"
      ],
      "metadata": {
        "colab": {
          "base_uri": "https://localhost:8080/"
        },
        "id": "ZQU27Kw7NYdL",
        "outputId": "10804fbc-28ba-4f30-d94b-b7d89db0318e"
      },
      "execution_count": 7,
      "outputs": [
        {
          "output_type": "stream",
          "name": "stdout",
          "text": [
            "a.out  pp.c  sample_data\n"
          ]
        }
      ]
    },
    {
      "cell_type": "code",
      "source": [
        "!gcc pp.c"
      ],
      "metadata": {
        "id": "66S8v6xsNf3e"
      },
      "execution_count": 8,
      "outputs": []
    },
    {
      "cell_type": "code",
      "source": [
        "!./a.out"
      ],
      "metadata": {
        "colab": {
          "base_uri": "https://localhost:8080/"
        },
        "id": "ap3OJ_WKNwIp",
        "outputId": "aa9598a0-296a-476a-d3a4-80683ec89b37"
      },
      "execution_count": 9,
      "outputs": [
        {
          "output_type": "stream",
          "name": "stdout",
          "text": [
            "3.141593\n"
          ]
        }
      ]
    },
    {
      "cell_type": "code",
      "source": [
        "%%writefile pp.c\n",
        "#include<stdio.h>\n",
        "#include<math.h>\n",
        "int main()\n",
        "{\n",
        "  printf(\"%5f\\n\",M_PI);\n",
        "  return(0);\n",
        "}"
      ],
      "metadata": {
        "id": "JporzdzMYnMj",
        "outputId": "19869e9f-1f06-4da6-ab06-8cb5b51930d2",
        "colab": {
          "base_uri": "https://localhost:8080/"
        }
      },
      "execution_count": 90,
      "outputs": [
        {
          "output_type": "stream",
          "name": "stdout",
          "text": [
            "Overwriting pp.c\n"
          ]
        }
      ]
    },
    {
      "cell_type": "code",
      "source": [
        "!ls"
      ],
      "metadata": {
        "id": "6AEShpBkYq2S",
        "outputId": "8cde169e-93b5-47d7-cd09-984e0e5e7689",
        "colab": {
          "base_uri": "https://localhost:8080/"
        }
      },
      "execution_count": 91,
      "outputs": [
        {
          "output_type": "stream",
          "name": "stdout",
          "text": [
            "a.out  p4.c  p5.c  pp.c  ppr.c\tprr.c  sample_data\n"
          ]
        }
      ]
    },
    {
      "cell_type": "code",
      "source": [
        "!gcc pp.c"
      ],
      "metadata": {
        "id": "dCo8fAsHYtql"
      },
      "execution_count": 92,
      "outputs": []
    },
    {
      "cell_type": "code",
      "source": [
        "!./a.out"
      ],
      "metadata": {
        "id": "hNyYs3qiYx4Y",
        "outputId": "87821afb-e3a5-49d0-e338-e25fbfd4b41b",
        "colab": {
          "base_uri": "https://localhost:8080/"
        }
      },
      "execution_count": 93,
      "outputs": [
        {
          "output_type": "stream",
          "name": "stdout",
          "text": [
            "3.141593\n"
          ]
        }
      ]
    },
    {
      "cell_type": "markdown",
      "source": [
        "ex 2"
      ],
      "metadata": {
        "id": "6EsBoeU4SVs2"
      }
    },
    {
      "cell_type": "code",
      "source": [
        "%%writefile ppr.c\n",
        "#include<stdio.h>\n",
        "#include<math.h>\n",
        "int main()\n",
        "{\n",
        "  printf(\"%2.4f\\n\",M_PI);\n",
        "  return(0);\n",
        "}"
      ],
      "metadata": {
        "colab": {
          "base_uri": "https://localhost:8080/"
        },
        "id": "RUat_gD3OLLG",
        "outputId": "9e2e16c1-1656-410d-8649-2baf8c235a87"
      },
      "execution_count": 11,
      "outputs": [
        {
          "output_type": "stream",
          "name": "stdout",
          "text": [
            "Overwriting ppr.c\n"
          ]
        }
      ]
    },
    {
      "cell_type": "code",
      "source": [
        "!ls"
      ],
      "metadata": {
        "colab": {
          "base_uri": "https://localhost:8080/"
        },
        "id": "IHX07_WQORyc",
        "outputId": "8e39d0fc-37b3-49ff-d6c6-22de49691908"
      },
      "execution_count": 12,
      "outputs": [
        {
          "output_type": "stream",
          "name": "stdout",
          "text": [
            "a.out  pp.c  ppr.c  sample_data\n"
          ]
        }
      ]
    },
    {
      "cell_type": "code",
      "source": [
        "!gcc ppr.c\n"
      ],
      "metadata": {
        "id": "NOrEuMayOWAZ"
      },
      "execution_count": 13,
      "outputs": []
    },
    {
      "cell_type": "code",
      "source": [
        "!./a.out"
      ],
      "metadata": {
        "colab": {
          "base_uri": "https://localhost:8080/"
        },
        "id": "B2p5YRl1Oaen",
        "outputId": "c118ce56-269d-4246-8a6a-b4db867457b9"
      },
      "execution_count": 14,
      "outputs": [
        {
          "output_type": "stream",
          "name": "stdout",
          "text": [
            "3.1416\n"
          ]
        }
      ]
    },
    {
      "cell_type": "code",
      "source": [
        "%%writefile ppr.c\n",
        "#include<stdio.h>\n",
        "#include<math.h>\n",
        "int main()\n",
        "{\n",
        "  printf(\"%8.4f\\n\",M_PI);\n",
        "  return(0);\n",
        "}"
      ],
      "metadata": {
        "id": "9r37e8VlYAYa",
        "outputId": "3c3cb9d5-a420-4228-bcc7-6d367946a227",
        "colab": {
          "base_uri": "https://localhost:8080/"
        }
      },
      "execution_count": 86,
      "outputs": [
        {
          "output_type": "stream",
          "name": "stdout",
          "text": [
            "Overwriting ppr.c\n"
          ]
        }
      ]
    },
    {
      "cell_type": "code",
      "source": [
        "!ls"
      ],
      "metadata": {
        "id": "ZhrTfjlCYItu",
        "outputId": "97ffc82d-7fac-450e-d728-5c724dca2837",
        "colab": {
          "base_uri": "https://localhost:8080/"
        }
      },
      "execution_count": 87,
      "outputs": [
        {
          "output_type": "stream",
          "name": "stdout",
          "text": [
            "a.out  p4.c  p5.c  pp.c  ppr.c\tprr.c  sample_data\n"
          ]
        }
      ]
    },
    {
      "cell_type": "code",
      "source": [
        "!gcc ppr.c"
      ],
      "metadata": {
        "id": "VEY8-2ADYNBl"
      },
      "execution_count": 88,
      "outputs": []
    },
    {
      "cell_type": "code",
      "source": [
        "!./a.out"
      ],
      "metadata": {
        "id": "4kEKnVTvYdvX",
        "outputId": "b6e96118-a3a3-4919-b5ac-d26fba1ab747",
        "colab": {
          "base_uri": "https://localhost:8080/"
        }
      },
      "execution_count": 89,
      "outputs": [
        {
          "output_type": "stream",
          "name": "stdout",
          "text": [
            "  3.1416\n"
          ]
        }
      ]
    },
    {
      "cell_type": "markdown",
      "source": [
        " ex 3"
      ],
      "metadata": {
        "id": "vEfkGuNKPJNK"
      }
    },
    {
      "cell_type": "code",
      "source": [
        "%%writefile prr.c\n",
        "#include<stdio.h>\n",
        "#include<math.h>\n",
        "int main()\n",
        "{\n",
        "  printf(\"%6.f\\n\",M_PI);\n",
        "  return(0);\n",
        "}"
      ],
      "metadata": {
        "colab": {
          "base_uri": "https://localhost:8080/"
        },
        "id": "NLPXKnuVOpEm",
        "outputId": "9400bc21-be08-4fa5-d984-dcfd84630834"
      },
      "execution_count": 15,
      "outputs": [
        {
          "output_type": "stream",
          "name": "stdout",
          "text": [
            "Writing prr.c\n"
          ]
        }
      ]
    },
    {
      "cell_type": "code",
      "source": [
        "!ls"
      ],
      "metadata": {
        "colab": {
          "base_uri": "https://localhost:8080/"
        },
        "id": "HIIHwbEEOv9y",
        "outputId": "d6f9575c-bc98-420d-f72e-ae9ccd7d1453"
      },
      "execution_count": 16,
      "outputs": [
        {
          "output_type": "stream",
          "name": "stdout",
          "text": [
            "a.out  pp.c  ppr.c  prr.c  sample_data\n"
          ]
        }
      ]
    },
    {
      "cell_type": "code",
      "source": [
        "!gcc prr.c"
      ],
      "metadata": {
        "id": "rKWfF4x5Oyr9"
      },
      "execution_count": 17,
      "outputs": []
    },
    {
      "cell_type": "code",
      "source": [
        "!./a.out"
      ],
      "metadata": {
        "colab": {
          "base_uri": "https://localhost:8080/"
        },
        "id": "iyCAxGOtO3TI",
        "outputId": "8996c916-e83f-4274-8f55-9dc4dac16dda"
      },
      "execution_count": 18,
      "outputs": [
        {
          "output_type": "stream",
          "name": "stdout",
          "text": [
            "     3\n"
          ]
        }
      ]
    },
    {
      "cell_type": "code",
      "source": [
        "%%writefile prr.c\n",
        "#include<stdio.h>\n",
        "#include<math.h>\n",
        "int main()\n",
        "{\n",
        "  printf(\"%4.f\\n\",M_PI);\n",
        "  return(0);\n",
        "}"
      ],
      "metadata": {
        "id": "GW784SR4XmNp",
        "outputId": "5c424f6e-8083-4edf-83e3-16d22dfe529a",
        "colab": {
          "base_uri": "https://localhost:8080/"
        }
      },
      "execution_count": 79,
      "outputs": [
        {
          "output_type": "stream",
          "name": "stdout",
          "text": [
            "Overwriting prr.c\n"
          ]
        }
      ]
    },
    {
      "cell_type": "code",
      "source": [
        "!ls"
      ],
      "metadata": {
        "id": "s4QOthgTXscQ",
        "outputId": "65a0da50-2b13-4827-a793-29bae047c101",
        "colab": {
          "base_uri": "https://localhost:8080/"
        }
      },
      "execution_count": 80,
      "outputs": [
        {
          "output_type": "stream",
          "name": "stdout",
          "text": [
            "a.out  p4.c  p5.c  pp.c  ppr.c\tprr.c  sample_data\n"
          ]
        }
      ]
    },
    {
      "cell_type": "code",
      "source": [
        "!gcc prr.c"
      ],
      "metadata": {
        "id": "asEtAmlmXwxf"
      },
      "execution_count": 81,
      "outputs": []
    },
    {
      "cell_type": "code",
      "source": [
        "!./a.out"
      ],
      "metadata": {
        "id": "T8geHutCX0WT",
        "outputId": "07d24dca-214c-438f-f573-409667233cc5",
        "colab": {
          "base_uri": "https://localhost:8080/"
        }
      },
      "execution_count": 82,
      "outputs": [
        {
          "output_type": "stream",
          "name": "stdout",
          "text": [
            "   3\n"
          ]
        }
      ]
    },
    {
      "cell_type": "markdown",
      "source": [
        "ex 4"
      ],
      "metadata": {
        "id": "VlZu_ytdVk6H"
      }
    },
    {
      "cell_type": "code",
      "source": [
        "%%writefile p4.c\n",
        "#include<stdio.h>\n",
        "#include<math.h>\n",
        "int main()\n",
        "{\n",
        "  printf(\"%06.f\\n\",M_PI);\n",
        "  return(0);\n",
        "}"
      ],
      "metadata": {
        "colab": {
          "base_uri": "https://localhost:8080/"
        },
        "id": "XXZukThfO7VB",
        "outputId": "0ed76d80-7e66-42dd-b945-06a8c8c1867e"
      },
      "execution_count": 78,
      "outputs": [
        {
          "output_type": "stream",
          "name": "stdout",
          "text": [
            "Overwriting p4.c\n"
          ]
        }
      ]
    },
    {
      "cell_type": "code",
      "source": [
        "!ls"
      ],
      "metadata": {
        "colab": {
          "base_uri": "https://localhost:8080/"
        },
        "id": "Q-SD3QZRPOg-",
        "outputId": "15ff3994-d79a-4848-f6ed-003d1a9e5be9"
      },
      "execution_count": 22,
      "outputs": [
        {
          "output_type": "stream",
          "name": "stdout",
          "text": [
            "a.out  p4.c  pp.c  ppr.c  prr.c  sample_data\n"
          ]
        }
      ]
    },
    {
      "cell_type": "code",
      "source": [
        "!gcc p4.c"
      ],
      "metadata": {
        "id": "GZcaBbwKPRU0"
      },
      "execution_count": 23,
      "outputs": []
    },
    {
      "cell_type": "code",
      "source": [
        "!./a.out"
      ],
      "metadata": {
        "colab": {
          "base_uri": "https://localhost:8080/"
        },
        "id": "fK70cXmgPcn-",
        "outputId": "127f0b2c-fe85-4afa-a9ba-57de948c7789"
      },
      "execution_count": 24,
      "outputs": [
        {
          "output_type": "stream",
          "name": "stdout",
          "text": [
            "000003\n"
          ]
        }
      ]
    },
    {
      "cell_type": "code",
      "source": [
        "%%writefile p4.c\n",
        "#include<stdio.h>\n",
        "#include<math.h>\n",
        "int main()\n",
        "{\n",
        "  printf(\"%08.f\\n\",M_PI);\n",
        "  return(0);\n",
        "}"
      ],
      "metadata": {
        "id": "vhmw9S3GWxsK",
        "outputId": "1a0d9bb6-d9e4-4c1a-fb30-ca05fcb2e33e",
        "colab": {
          "base_uri": "https://localhost:8080/"
        }
      },
      "execution_count": 73,
      "outputs": [
        {
          "output_type": "stream",
          "name": "stdout",
          "text": [
            "Overwriting p4.c\n"
          ]
        }
      ]
    },
    {
      "cell_type": "code",
      "source": [
        "!ls"
      ],
      "metadata": {
        "id": "XGYp_451W7JF",
        "outputId": "337dcc5f-692b-4ffb-847c-339fb1477898",
        "colab": {
          "base_uri": "https://localhost:8080/"
        }
      },
      "execution_count": 74,
      "outputs": [
        {
          "output_type": "stream",
          "name": "stdout",
          "text": [
            "a.out  p4.c  p5.c  pp.c  ppr.c\tprr.c  sample_data\n"
          ]
        }
      ]
    },
    {
      "cell_type": "code",
      "source": [
        "!gcc p4.c"
      ],
      "metadata": {
        "id": "Ly5wZeDeW8nR"
      },
      "execution_count": 75,
      "outputs": []
    },
    {
      "cell_type": "code",
      "source": [
        "!./a.out"
      ],
      "metadata": {
        "id": "R0QW54YBXBD0",
        "outputId": "3335b2da-0e8c-48f4-bb87-690cac576f10",
        "colab": {
          "base_uri": "https://localhost:8080/"
        }
      },
      "execution_count": 76,
      "outputs": [
        {
          "output_type": "stream",
          "name": "stdout",
          "text": [
            "00000003\n"
          ]
        }
      ]
    },
    {
      "cell_type": "markdown",
      "source": [
        "ex 5"
      ],
      "metadata": {
        "id": "4ArRNpGVSigR"
      }
    },
    {
      "cell_type": "code",
      "source": [
        "%%writefile p5.c\n",
        "#include<stdio.h>\n",
        "#include<math.h>\n",
        "int main()\n",
        "{\n",
        "  int n;\n",
        "  printf(\"%2.4f\\n\",M_PI);\n",
        "  printf(\"that's %d characters\\n\",n);\n",
        "  return(0);\n",
        "}"
      ],
      "metadata": {
        "colab": {
          "base_uri": "https://localhost:8080/"
        },
        "id": "T1bqQenSPlBf",
        "outputId": "b42ecfeb-492a-46df-898a-54fe0d3156b1"
      },
      "execution_count": 50,
      "outputs": [
        {
          "output_type": "stream",
          "name": "stdout",
          "text": [
            "Overwriting p5.c\n"
          ]
        }
      ]
    },
    {
      "cell_type": "code",
      "source": [
        "!ls"
      ],
      "metadata": {
        "colab": {
          "base_uri": "https://localhost:8080/"
        },
        "id": "iPiWImRCP27C",
        "outputId": "663d9804-7aa0-42d5-f1cb-9ca8b98b4829"
      },
      "execution_count": 51,
      "outputs": [
        {
          "output_type": "stream",
          "name": "stdout",
          "text": [
            "a.out  p4.c  p5.c  pp.c  ppr.c\tprr.c  sample_data\n"
          ]
        }
      ]
    },
    {
      "cell_type": "code",
      "source": [
        "!gcc p5.c"
      ],
      "metadata": {
        "id": "3lmJ7zZPP7ID"
      },
      "execution_count": 52,
      "outputs": []
    },
    {
      "cell_type": "code",
      "source": [
        "!./a.out"
      ],
      "metadata": {
        "colab": {
          "base_uri": "https://localhost:8080/"
        },
        "id": "kV5ICaAOR742",
        "outputId": "b79af63f-d724-4292-e5b1-849b013fc7d1"
      },
      "execution_count": 53,
      "outputs": [
        {
          "output_type": "stream",
          "name": "stdout",
          "text": [
            "3.1416\n",
            "that's 0 characters\n"
          ]
        }
      ]
    },
    {
      "cell_type": "code",
      "source": [
        "%%writefile p5.c\n",
        "#include<stdio.h>\n",
        "#include<math.h>\n",
        "int main()\n",
        "{\n",
        "  int n;\n",
        "  printf(\"%3.6f\\n\",M_PI);\n",
        "  printf(\"that's %d characters\\n\",n);\n",
        "  return(0);\n",
        "}"
      ],
      "metadata": {
        "id": "iHluUJuwV59l",
        "outputId": "dad0725f-cf1f-4e69-b7e7-f38c14c519be",
        "colab": {
          "base_uri": "https://localhost:8080/"
        }
      },
      "execution_count": 54,
      "outputs": [
        {
          "output_type": "stream",
          "name": "stdout",
          "text": [
            "Overwriting p5.c\n"
          ]
        }
      ]
    },
    {
      "cell_type": "code",
      "source": [
        "!ls"
      ],
      "metadata": {
        "id": "HKjKpiEFWEbk",
        "outputId": "3c099a05-1436-4cf8-f7fa-af8eeeb57620",
        "colab": {
          "base_uri": "https://localhost:8080/"
        }
      },
      "execution_count": 55,
      "outputs": [
        {
          "output_type": "stream",
          "name": "stdout",
          "text": [
            "a.out  p4.c  p5.c  pp.c  ppr.c\tprr.c  sample_data\n"
          ]
        }
      ]
    },
    {
      "cell_type": "code",
      "source": [
        "!gcc p5.c"
      ],
      "metadata": {
        "id": "RX2r8viCWHnm"
      },
      "execution_count": 56,
      "outputs": []
    },
    {
      "cell_type": "code",
      "source": [
        "!./a.out"
      ],
      "metadata": {
        "id": "ZU9EXxtiWMwU",
        "outputId": "0928e40f-67e6-4de3-ca0f-e684a5a976fb",
        "colab": {
          "base_uri": "https://localhost:8080/"
        }
      },
      "execution_count": 57,
      "outputs": [
        {
          "output_type": "stream",
          "name": "stdout",
          "text": [
            "3.141593\n",
            "that's 0 characters\n"
          ]
        }
      ]
    },
    {
      "cell_type": "code",
      "source": [
        "%%writefile p5.c\n",
        "#include<stdio.h>\n",
        "#include<math.h>\n",
        "int main()\n",
        "{\n",
        "  int n;\n",
        "  printf(\"%8.9f\\n\",M_PI);\n",
        "  printf(\"that's %d characters\\n\",n);\n",
        "  return(0);\n",
        "}"
      ],
      "metadata": {
        "id": "Namc9XTOWTtI",
        "outputId": "0ccc8f41-d52a-4caf-cad8-e384ead35423",
        "colab": {
          "base_uri": "https://localhost:8080/"
        }
      },
      "execution_count": 58,
      "outputs": [
        {
          "output_type": "stream",
          "name": "stdout",
          "text": [
            "Overwriting p5.c\n"
          ]
        }
      ]
    },
    {
      "cell_type": "code",
      "source": [
        "!ls"
      ],
      "metadata": {
        "id": "kO-ImSCdWdaM",
        "outputId": "6a9e8d2f-a22b-4368-ffe9-4ae5f4ebd259",
        "colab": {
          "base_uri": "https://localhost:8080/"
        }
      },
      "execution_count": 59,
      "outputs": [
        {
          "output_type": "stream",
          "name": "stdout",
          "text": [
            "a.out  p4.c  p5.c  pp.c  ppr.c\tprr.c  sample_data\n"
          ]
        }
      ]
    },
    {
      "cell_type": "code",
      "source": [
        "!gcc p5.c"
      ],
      "metadata": {
        "id": "rHjU_TUEWg89"
      },
      "execution_count": 60,
      "outputs": []
    },
    {
      "cell_type": "code",
      "source": [
        "!./a.out"
      ],
      "metadata": {
        "id": "mHsnyBqRWkWW",
        "outputId": "625d4c5f-ac45-4dd1-b500-00aa1a18c816",
        "colab": {
          "base_uri": "https://localhost:8080/"
        }
      },
      "execution_count": 61,
      "outputs": [
        {
          "output_type": "stream",
          "name": "stdout",
          "text": [
            "3.141592654\n",
            "that's 0 characters\n"
          ]
        }
      ]
    },
    {
      "cell_type": "markdown",
      "source": [
        "fraction of on int"
      ],
      "metadata": {
        "id": "3EMx8EdAZHAp"
      }
    },
    {
      "cell_type": "code",
      "source": [
        "%%writefile prog.c\n",
        "#include<stdio.h>\n",
        "int main()\n",
        "{\n",
        "  int a,b;\n",
        "  a=5;b=4;\n",
        "  printf(\"typecasting the expression: %d%d = %f\\n\",a,b,(float)a/b);\n",
        "  printf(\"typicasting the both veriables: %d%d = %f\\n\",a,b, (float)a/ (float)b);\n",
        "  return 0;\n",
        "}"
      ],
      "metadata": {
        "id": "yieYGUwhWrBf",
        "outputId": "537949b8-fba6-4de5-93b9-6a682500be4a",
        "colab": {
          "base_uri": "https://localhost:8080/"
        }
      },
      "execution_count": 98,
      "outputs": [
        {
          "output_type": "stream",
          "name": "stdout",
          "text": [
            "Overwriting prog.c\n"
          ]
        }
      ]
    },
    {
      "cell_type": "code",
      "source": [
        "!ls"
      ],
      "metadata": {
        "id": "butBFpyCaanK",
        "outputId": "441427d1-00b0-43dd-fc1c-dfad02587fa7",
        "colab": {
          "base_uri": "https://localhost:8080/"
        }
      },
      "execution_count": 96,
      "outputs": [
        {
          "output_type": "stream",
          "name": "stdout",
          "text": [
            "a.out  p4.c  p5.c  pp.c  ppr.c\tprog.c\tprr.c  sample_data\n"
          ]
        }
      ]
    },
    {
      "cell_type": "code",
      "source": [
        "!gcc prog.c"
      ],
      "metadata": {
        "id": "zZxs288-ad4V"
      },
      "execution_count": 99,
      "outputs": []
    },
    {
      "cell_type": "code",
      "source": [
        "!./a.out"
      ],
      "metadata": {
        "id": "LCKubR54atga",
        "outputId": "f6ebafab-461c-40a2-ca11-e309aac1dad3",
        "colab": {
          "base_uri": "https://localhost:8080/"
        }
      },
      "execution_count": 100,
      "outputs": [
        {
          "output_type": "stream",
          "name": "stdout",
          "text": [
            "typecasting the expression: 54 = 1.250000\n",
            "typicasting the both veriables: 54 = 1.250000\n"
          ]
        }
      ]
    },
    {
      "cell_type": "markdown",
      "source": [
        "EX 1\n"
      ],
      "metadata": {
        "id": "sKrb3VQQa1FV"
      }
    },
    {
      "cell_type": "code",
      "source": [
        "%%writefile prog.c\n",
        "#include<stdio.h>\n",
        "int main()\n",
        "{\n",
        "  int a,b;\n",
        "  a=20;b=10;\n",
        "  printf(\"typecasting the expression: %d%d = %f\\n\",a,b,(float)a/b);\n",
        "  printf(\"typicasting the both veriables: %d%d = %f\\n\",a,b, (float)a/ (float)b);\n",
        "  return 0;\n",
        "}"
      ],
      "metadata": {
        "id": "-A4n8Cbua30H",
        "outputId": "b8c2a497-3a4a-4de1-da78-9967663b022b",
        "colab": {
          "base_uri": "https://localhost:8080/"
        }
      },
      "execution_count": 101,
      "outputs": [
        {
          "output_type": "stream",
          "name": "stdout",
          "text": [
            "Overwriting prog.c\n"
          ]
        }
      ]
    },
    {
      "cell_type": "code",
      "source": [
        "!ls"
      ],
      "metadata": {
        "id": "Xifvuifka-Xl",
        "outputId": "a4ecbe55-61fb-49af-d96a-90ca805cef83",
        "colab": {
          "base_uri": "https://localhost:8080/"
        }
      },
      "execution_count": 102,
      "outputs": [
        {
          "output_type": "stream",
          "name": "stdout",
          "text": [
            "a.out  p4.c  p5.c  pp.c  ppr.c\tprog.c\tprr.c  sample_data\n"
          ]
        }
      ]
    },
    {
      "cell_type": "code",
      "source": [
        "!gcc prog.c"
      ],
      "metadata": {
        "id": "rpzLZ24RbCg6"
      },
      "execution_count": 103,
      "outputs": []
    },
    {
      "cell_type": "code",
      "source": [
        "!./a.out"
      ],
      "metadata": {
        "id": "STiYDg45bIlV",
        "outputId": "a3227098-79f4-432d-d6c4-7ba0008ca3bd",
        "colab": {
          "base_uri": "https://localhost:8080/"
        }
      },
      "execution_count": 104,
      "outputs": [
        {
          "output_type": "stream",
          "name": "stdout",
          "text": [
            "typecasting the expression: 2010 = 2.000000\n",
            "typicasting the both veriables: 2010 = 2.000000\n"
          ]
        }
      ]
    },
    {
      "cell_type": "code",
      "source": [
        "%%writefile prog.c\n",
        "#include<stdio.h>\n",
        "int main()\n",
        "{\n",
        "  int a,b;\n",
        "  a=2;b=8;\n",
        "  printf(\"typecasting the expression: %d%d = %f\\n\",a,b,(float)a/b);\n",
        "  printf(\"typicasting the both veriables: %d%d = %f\\n\",a,b, (float)a/ (float)b);\n",
        "  return 0;\n",
        "}"
      ],
      "metadata": {
        "id": "ApT5bseybeFn",
        "outputId": "d5a2f16f-17f3-43b5-9223-dad662bf5177",
        "colab": {
          "base_uri": "https://localhost:8080/"
        }
      },
      "execution_count": 105,
      "outputs": [
        {
          "output_type": "stream",
          "name": "stdout",
          "text": [
            "Overwriting prog.c\n"
          ]
        }
      ]
    },
    {
      "cell_type": "code",
      "source": [
        "!ls"
      ],
      "metadata": {
        "id": "eX4Pt-G3biKS",
        "outputId": "2e80172d-be0f-4a2b-8eea-7b200f732747",
        "colab": {
          "base_uri": "https://localhost:8080/"
        }
      },
      "execution_count": 106,
      "outputs": [
        {
          "output_type": "stream",
          "name": "stdout",
          "text": [
            "a.out  p4.c  p5.c  pp.c  ppr.c\tprog.c\tprr.c  sample_data\n"
          ]
        }
      ]
    },
    {
      "cell_type": "code",
      "source": [
        "!gcc prog.c"
      ],
      "metadata": {
        "id": "W4UeV3asblNZ"
      },
      "execution_count": 107,
      "outputs": []
    },
    {
      "cell_type": "code",
      "source": [
        "!./a.out"
      ],
      "metadata": {
        "id": "ZBkF_y0vbqJp",
        "outputId": "feba5931-199a-4fa1-abe9-91ff4de65bbd",
        "colab": {
          "base_uri": "https://localhost:8080/"
        }
      },
      "execution_count": 108,
      "outputs": [
        {
          "output_type": "stream",
          "name": "stdout",
          "text": [
            "typecasting the expression: 28 = 0.250000\n",
            "typicasting the both veriables: 28 = 0.250000\n"
          ]
        }
      ]
    },
    {
      "cell_type": "markdown",
      "source": [
        "fraction of an int ex 2"
      ],
      "metadata": {
        "id": "yWTa3_5AbzCo"
      }
    },
    {
      "cell_type": "code",
      "source": [
        "%%writefile pr.c\n",
        "\n",
        "#include<stdio.h>\n",
        "int main()\n",
        "{\n",
        "  int a,b;\n",
        "  a=5;b=4;\n",
        "  printf(\"%d%d =%d\\n\",a,b,a/b);\n",
        "  return 0;\n",
        "}"
      ],
      "metadata": {
        "id": "ZDIuWdNwb6wj",
        "outputId": "17f48d54-71a7-4ccf-d3f6-d91b91fd4f71",
        "colab": {
          "base_uri": "https://localhost:8080/"
        }
      },
      "execution_count": 113,
      "outputs": [
        {
          "output_type": "stream",
          "name": "stdout",
          "text": [
            "Overwriting pr.c\n"
          ]
        }
      ]
    },
    {
      "cell_type": "code",
      "source": [
        "!ls"
      ],
      "metadata": {
        "id": "Z9Q3dA9QcQ3S",
        "outputId": "b25944d1-e15c-4ea3-8e41-88994a9e613b",
        "colab": {
          "base_uri": "https://localhost:8080/"
        }
      },
      "execution_count": 114,
      "outputs": [
        {
          "output_type": "stream",
          "name": "stdout",
          "text": [
            "a.out  p4.c  p5.c  pp.c  ppr.c\tpr.c  prog.c  prr.c  sample_data\n"
          ]
        }
      ]
    },
    {
      "cell_type": "code",
      "source": [
        "!gcc pr.c"
      ],
      "metadata": {
        "id": "C25_32oacUwG"
      },
      "execution_count": 115,
      "outputs": []
    },
    {
      "cell_type": "code",
      "source": [
        "!./a.out"
      ],
      "metadata": {
        "id": "Wju7ty3McgNF",
        "outputId": "b315ec52-674e-4c45-d484-36c1266967a6",
        "colab": {
          "base_uri": "https://localhost:8080/"
        }
      },
      "execution_count": 116,
      "outputs": [
        {
          "output_type": "stream",
          "name": "stdout",
          "text": [
            "54 =1\n"
          ]
        }
      ]
    },
    {
      "cell_type": "markdown",
      "source": [
        "ex 2"
      ],
      "metadata": {
        "id": "YVtbZ1Pncnem"
      }
    },
    {
      "cell_type": "code",
      "source": [
        "%%writefile pr.c\n",
        "\n",
        "#include<stdio.h>\n",
        "int main()\n",
        "{\n",
        "  int a,b;\n",
        "  a=40;b=60;\n",
        "  printf(\"%d%d =%d\\n\",a,b,a/b);\n",
        "  return 0;\n",
        "}"
      ],
      "metadata": {
        "id": "XDS5JWiVcpU3",
        "outputId": "e62499eb-8d30-46f3-eadc-553a4f790797",
        "colab": {
          "base_uri": "https://localhost:8080/"
        }
      },
      "execution_count": 117,
      "outputs": [
        {
          "output_type": "stream",
          "name": "stdout",
          "text": [
            "Overwriting pr.c\n"
          ]
        }
      ]
    },
    {
      "cell_type": "code",
      "source": [
        "!ls"
      ],
      "metadata": {
        "id": "SI4S9laJcu4J",
        "outputId": "1dd7c833-93ad-4670-dee0-331c08c4f32a",
        "colab": {
          "base_uri": "https://localhost:8080/"
        }
      },
      "execution_count": 118,
      "outputs": [
        {
          "output_type": "stream",
          "name": "stdout",
          "text": [
            "a.out  p4.c  p5.c  pp.c  ppr.c\tpr.c  prog.c  prr.c  sample_data\n"
          ]
        }
      ]
    },
    {
      "cell_type": "code",
      "source": [
        "!gcc pr.c"
      ],
      "metadata": {
        "id": "p9yBa19zcw8j"
      },
      "execution_count": 119,
      "outputs": []
    },
    {
      "cell_type": "code",
      "source": [
        "!./a.out"
      ],
      "metadata": {
        "id": "O821aS8Ac0gI",
        "outputId": "dcf44222-1c4b-4e39-b602-1400ba71add4",
        "colab": {
          "base_uri": "https://localhost:8080/"
        }
      },
      "execution_count": 120,
      "outputs": [
        {
          "output_type": "stream",
          "name": "stdout",
          "text": [
            "4060 =0\n"
          ]
        }
      ]
    },
    {
      "cell_type": "markdown",
      "source": [
        "fraction of on int ex 3"
      ],
      "metadata": {
        "id": "H-a6qP0LdD_1"
      }
    },
    {
      "cell_type": "code",
      "source": [
        "%%writefile p.c\n",
        "#include<stdio.h>\n",
        "int main ()\n",
        "{\n",
        "  int x,y;\n",
        "  x = 5; y = 4;\n",
        "  printf(\"%d/%d = %f\\n\", x, y,(float) x/y);\n",
        "  return(0);\n",
        "}"
      ],
      "metadata": {
        "id": "_0OZXFtJdV5E",
        "outputId": "31dd5624-3e3c-42cf-adcb-33be57c36ece",
        "colab": {
          "base_uri": "https://localhost:8080/"
        }
      },
      "execution_count": 159,
      "outputs": [
        {
          "output_type": "stream",
          "name": "stdout",
          "text": [
            "Overwriting p.c\n"
          ]
        }
      ]
    },
    {
      "cell_type": "code",
      "source": [
        "!ls"
      ],
      "metadata": {
        "id": "1RP3oTjydz2g",
        "outputId": "f301acae-7240-4751-b0b1-121c2f3a1493",
        "colab": {
          "base_uri": "https://localhost:8080/"
        }
      },
      "execution_count": 160,
      "outputs": [
        {
          "output_type": "stream",
          "name": "stdout",
          "text": [
            "a.out  p4.c  p5.c  p.c\tpp.c  ppr.c  pr.c  prog.c  prr.c  sample_data\n"
          ]
        }
      ]
    },
    {
      "cell_type": "code",
      "source": [
        "!gcc p.c"
      ],
      "metadata": {
        "id": "AErnJcMod26R"
      },
      "execution_count": 161,
      "outputs": []
    },
    {
      "cell_type": "code",
      "source": [
        "!./a.out"
      ],
      "metadata": {
        "id": "dexdaRdkgFj8",
        "outputId": "a3801950-8dd3-4df6-8f66-17f14d987e16",
        "colab": {
          "base_uri": "https://localhost:8080/"
        }
      },
      "execution_count": 162,
      "outputs": [
        {
          "output_type": "stream",
          "name": "stdout",
          "text": [
            "5/4 = 1.250000\n"
          ]
        }
      ]
    },
    {
      "cell_type": "code",
      "source": [
        "%%writefile p.c\n",
        "#include<stdio.h>\n",
        "int main ()\n",
        "{\n",
        "  int a,b;\n",
        "  a = 80; b = 20;\n",
        "  printf(\"%d/%d = %f\\n\", a, b,(float) a/b);\n",
        "  return(0);\n",
        "}"
      ],
      "metadata": {
        "id": "aG-tcRDagKhT",
        "outputId": "67f73b11-c52a-4fe4-85b6-7e4d154632ba",
        "colab": {
          "base_uri": "https://localhost:8080/"
        }
      },
      "execution_count": 164,
      "outputs": [
        {
          "output_type": "stream",
          "name": "stdout",
          "text": [
            "Overwriting p.c\n"
          ]
        }
      ]
    },
    {
      "cell_type": "code",
      "source": [
        "!ls"
      ],
      "metadata": {
        "id": "WYnnS2JggjW7",
        "outputId": "37be0926-7191-47ba-e31b-731961d3d99c",
        "colab": {
          "base_uri": "https://localhost:8080/"
        }
      },
      "execution_count": 165,
      "outputs": [
        {
          "output_type": "stream",
          "name": "stdout",
          "text": [
            "a.out  p4.c  p5.c  p.c\tpp.c  ppr.c  pr.c  prog.c  prr.c  sample_data\n"
          ]
        }
      ]
    },
    {
      "cell_type": "code",
      "source": [
        "!gcc p.c"
      ],
      "metadata": {
        "id": "cib13QcQgmkv"
      },
      "execution_count": 166,
      "outputs": []
    },
    {
      "cell_type": "code",
      "source": [
        "!./a.out"
      ],
      "metadata": {
        "id": "OrV_jmi_gqnD",
        "outputId": "07d92c05-9463-42c0-8c5d-0ef8123e95f0",
        "colab": {
          "base_uri": "https://localhost:8080/"
        }
      },
      "execution_count": 167,
      "outputs": [
        {
          "output_type": "stream",
          "name": "stdout",
          "text": [
            "80/20 = 4.000000\n"
          ]
        }
      ]
    }
  ]
}