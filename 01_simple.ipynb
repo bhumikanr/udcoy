{
  "nbformat": 4,
  "nbformat_minor": 0,
  "metadata": {
    "colab": {
      "name": "01_simple.ipynb",
      "provenance": [],
      "include_colab_link": true
    },
    "kernelspec": {
      "name": "python3",
      "display_name": "Python 3"
    }
  },
  "cells": [
    {
      "cell_type": "markdown",
      "metadata": {
        "id": "view-in-github",
        "colab_type": "text"
      },
      "source": [
        "<a href=\"https://colab.research.google.com/github/bhumikanr/udcoy/blob/main/01_simple.ipynb\" target=\"_parent\"><img src=\"https://colab.research.google.com/assets/colab-badge.svg\" alt=\"Open In Colab\"/></a>"
      ]
    },
    {
      "cell_type": "markdown",
      "source": [
        "reverse number"
      ],
      "metadata": {
        "id": "FBqyw4V4rqym"
      }
    },
    {
      "cell_type": "code",
      "metadata": {
        "id": "6kfdjeSwTN2p",
        "outputId": "9d782d4e-deff-4da1-d979-36bfdd3ac420",
        "colab": {
          "base_uri": "https://localhost:8080/"
        }
      },
      "source": [
        "%%writefile hell.c\n",
        "#include<stdio.h>\n",
        "int main () {\n",
        "    int n,a;\n",
        "\n",
        "    long int revnum=0;\n",
        "    printf(\"enter the five degits number(less than 32767)\\n\");\n",
        "    scanf(\"%d\",&n);\n",
        "\n",
        "        a=n%10;\n",
        "        revnum=revnum+a*10000;\n",
        "        n=n/10;\n",
        "\n",
        "        a=n%10;\n",
        "        revnum=revnum+a*1000;\n",
        "        n=n/10;\n",
        "\n",
        "        a=n%10;\n",
        "        revnum=revnum+a*100;\n",
        "        n=n/10;\n",
        "\n",
        "        a=n%10;\n",
        "        revnum=revnum+a*10;\n",
        "        n=n/10;\n",
        "\n",
        "        a=n%10;\n",
        "        revnum=revnum+a;\n",
        "\n",
        "     printf(\"the reverse number is %ld\",revnum);\n",
        "}"
      ],
      "execution_count": null,
      "outputs": [
        {
          "output_type": "stream",
          "name": "stdout",
          "text": [
            "Writing hell.c\n"
          ]
        }
      ]
    },
    {
      "cell_type": "code",
      "metadata": {
        "id": "I1QFktLNUGD1",
        "outputId": "e504b81d-8edc-4e30-c8ad-d3ca16e1ff9c",
        "colab": {
          "base_uri": "https://localhost:8080/"
        }
      },
      "source": [
        "!ls"
      ],
      "execution_count": null,
      "outputs": [
        {
          "output_type": "stream",
          "name": "stdout",
          "text": [
            "hell.c\tsample_data\n"
          ]
        }
      ]
    },
    {
      "cell_type": "code",
      "metadata": {
        "id": "eKihNbD_UHYB",
        "outputId": "ccf44fcf-65fc-4308-dc0f-7528dcbcbe4a",
        "colab": {
          "base_uri": "https://localhost:8080/",
          "height": 107
        }
      },
      "source": [
        "!gcc --version"
      ],
      "execution_count": null,
      "outputs": [
        {
          "output_type": "stream",
          "text": [
            "gcc (Ubuntu 7.4.0-1ubuntu1~18.04) 7.4.0\n",
            "Copyright (C) 2017 Free Software Foundation, Inc.\n",
            "This is free software; see the source for copying conditions.  There is NO\n",
            "warranty; not even for MERCHANTABILITY or FITNESS FOR A PARTICULAR PURPOSE.\n",
            "\n"
          ],
          "name": "stdout"
        }
      ]
    },
    {
      "cell_type": "code",
      "metadata": {
        "id": "OT9t0yXdUNzI"
      },
      "source": [
        "!gcc hell.c"
      ],
      "execution_count": null,
      "outputs": []
    },
    {
      "cell_type": "code",
      "metadata": {
        "id": "0uoBCc8UUXyn",
        "outputId": "39ed37a1-96ce-41bf-b32a-546c4653fdbb",
        "colab": {
          "base_uri": "https://localhost:8080/"
        }
      },
      "source": [
        "!./a.out"
      ],
      "execution_count": null,
      "outputs": [
        {
          "output_type": "stream",
          "name": "stdout",
          "text": [
            "enter the five degits number(less than 32767)\n",
            "55487\n",
            "the reverse number is 78455"
          ]
        }
      ]
    },
    {
      "cell_type": "markdown",
      "source": [
        "1  sarted"
      ],
      "metadata": {
        "id": "hrBIKt5IsX2j"
      }
    },
    {
      "cell_type": "code",
      "source": [
        "%%writefile sarted.c\n",
        "#include<stdio.h>\n",
        "int main()\n",
        "{\n",
        "  int a[10],i,j,k,t;\n",
        "  printf(\"enter number \\n\");\n",
        "  for(i=0;i<=9;i++)\n",
        "  scanf(\"%d\",&a[i]);\n",
        "  for(i=0;i<=9;i++)\n",
        "  {\n",
        "    t=a[i];\n",
        "    for(j=0;j<=9;j++)\n",
        "    {\n",
        "      if(k<a[j])\n",
        "      {\n",
        "        for(k=1;k<=j;j--)\n",
        "        a[k]=a[k-1];\n",
        "        a[j]=t;\n",
        "        break;\n",
        "      }\n",
        "\n",
        "\n",
        "    }\n",
        "  }\n",
        "  printf(\"sarted number \\n\");\n",
        "  for(i=0;i<=9;i++)\n",
        "  {\n",
        "    printf(\"%d \",a[i]);\n",
        "  }\n",
        "}"
      ],
      "metadata": {
        "colab": {
          "base_uri": "https://localhost:8080/"
        },
        "id": "bqz3WcLasoln",
        "outputId": "25301d1a-d916-4756-9bb3-073e0b681fae"
      },
      "execution_count": null,
      "outputs": [
        {
          "output_type": "stream",
          "name": "stdout",
          "text": [
            "Writing sarted.c\n"
          ]
        }
      ]
    },
    {
      "cell_type": "code",
      "source": [
        "!ls"
      ],
      "metadata": {
        "colab": {
          "base_uri": "https://localhost:8080/"
        },
        "id": "TlXSG70ts3oN",
        "outputId": "205515e3-2447-4ef9-ce65-a417ade3a85f"
      },
      "execution_count": null,
      "outputs": [
        {
          "output_type": "stream",
          "name": "stdout",
          "text": [
            "sample_data  sarted.c\n"
          ]
        }
      ]
    },
    {
      "cell_type": "code",
      "source": [
        "!gcc sarted.c"
      ],
      "metadata": {
        "id": "PeFpWydOtPs7"
      },
      "execution_count": null,
      "outputs": []
    },
    {
      "cell_type": "code",
      "source": [
        "!./a.out"
      ],
      "metadata": {
        "colab": {
          "base_uri": "https://localhost:8080/"
        },
        "id": "dyw7WQX9taXC",
        "outputId": "fcfcef34-9b2b-4080-d41f-66f93bfbb836"
      },
      "execution_count": null,
      "outputs": [
        {
          "output_type": "stream",
          "name": "stdout",
          "text": [
            "enter number \n",
            "5\n",
            "6\n",
            "8\n",
            "9\n",
            "66\n",
            "55\n",
            "44\n",
            "88\n",
            "99\n",
            "78\n",
            "sarted number \n",
            "78 6 8 9 66 55 44 88 99 78 "
          ]
        }
      ]
    },
    {
      "cell_type": "markdown",
      "source": [
        " 2 Matrix multiplication"
      ],
      "metadata": {
        "id": "rvu3Jmd2t47t"
      }
    },
    {
      "cell_type": "code",
      "source": [
        "%%writefile hello.c\n",
        "#include <stdio.h>\n",
        "\n",
        "int main() {\n",
        "    int a[10][10], b[10][10], result[10][10];\n",
        "    int r1, c1, r2, c2;\n",
        "\n",
        "\n",
        "    printf(\"Enter rows and columns for first matrix: \");\n",
        "    scanf(\"%d%d\", &r1, &c1);\n",
        "\n",
        "    printf(\"Enter rows and columns for second matrix: \");\n",
        "    scanf(\"%d%d\", &r2, &c2);\n",
        "\n",
        "\n",
        "    if (c1 != r2) {\n",
        "        printf(\"Matrix multiplication not possible.\\n\");\n",
        "        return 0;\n",
        "    }\n",
        "\n",
        "\n",
        "    printf(\"Enter elements of first matrix:\\n\");\n",
        "    for (int i = 0; i < r1; i++)\n",
        "        for (int j = 0; j < c1; j++)\n",
        "            scanf(\"%d\", &a[i][j]);\n",
        "\n",
        "\n",
        "    printf(\"Enter elements of second matrix:\\n\");\n",
        "    for (int i = 0; i < r2; i++)\n",
        "        for (int j = 0; j < c2; j++)\n",
        "            scanf(\"%d\", &b[i][j]);\n",
        "\n",
        "    for (int i = 0; i < r1; i++) {\n",
        "        for (int j = 0; j < c2; j++) {\n",
        "            result[i][j] = 0;\n",
        "            for (int k = 0; k < c1; k++) {\n",
        "                result[i][j] += a[i][k] * b[k][j];\n",
        "            }\n",
        "        }\n",
        "    }\n",
        "\n",
        "\n",
        "    printf(\"Resultant matrix:\\n\");\n",
        "    for (int i = 0; i < r1; i++) {\n",
        "        for (int j = 0; j < c2; j++) {\n",
        "            printf(\"%d \", result[i][j]);\n",
        "        }\n",
        "        printf(\"\\n\");\n",
        "    }\n",
        "\n",
        "    return 0;\n",
        "}\n"
      ],
      "metadata": {
        "colab": {
          "base_uri": "https://localhost:8080/"
        },
        "id": "JprsaKW6uBuL",
        "outputId": "149f530b-cf6f-41b8-9f2f-49b624377a45"
      },
      "execution_count": null,
      "outputs": [
        {
          "output_type": "stream",
          "name": "stdout",
          "text": [
            "Writing hello.c\n"
          ]
        }
      ]
    },
    {
      "cell_type": "code",
      "source": [
        "!ls"
      ],
      "metadata": {
        "colab": {
          "base_uri": "https://localhost:8080/"
        },
        "id": "TzH9ofKqubbv",
        "outputId": "f118fe32-2c9a-4563-f1dd-493576cbe51d"
      },
      "execution_count": null,
      "outputs": [
        {
          "output_type": "stream",
          "name": "stdout",
          "text": [
            "hello.c  sample_data\n"
          ]
        }
      ]
    },
    {
      "cell_type": "code",
      "source": [
        "!gcc hello.c"
      ],
      "metadata": {
        "id": "0CC1cwiVuhG4"
      },
      "execution_count": null,
      "outputs": []
    },
    {
      "cell_type": "code",
      "source": [
        "!./a.out"
      ],
      "metadata": {
        "colab": {
          "base_uri": "https://localhost:8080/"
        },
        "id": "LOFfWZ-8usk2",
        "outputId": "6b1d473d-a238-403d-c614-888012559c05"
      },
      "execution_count": null,
      "outputs": [
        {
          "output_type": "stream",
          "name": "stdout",
          "text": [
            "Enter rows and columns for first matrix: 2 3\n",
            "Enter rows and columns for second matrix: 3 2\n",
            "Enter elements of first matrix:\n",
            "1 2 3 \n",
            "4 5 6\n",
            "Enter elements of second matrix:\n",
            "7 8\n",
            "9 3\n",
            "12 13\n",
            "Resultant matrix:\n",
            "61 53 \n",
            "145 125 \n"
          ]
        }
      ]
    },
    {
      "cell_type": "markdown",
      "source": [
        " 3 string"
      ],
      "metadata": {
        "id": "gklfrQXTvsus"
      }
    },
    {
      "cell_type": "code",
      "source": [
        "%%writefile p.c\n",
        "#include <stdio.h>\n",
        "\n",
        "int main() {\n",
        "    char s[80];\n",
        "    int i = 0;\n",
        "\n",
        "    printf(\"Enter the string: \");\n",
        "    fgets(s, sizeof(s), stdin);\n",
        "\n",
        "    while (s[i] != '\\0') {\n",
        "        if (s[i] == 'a' || s[i] == 'e' || s[i] == 'i' || s[i] == 'o' || s[i] == 'u')\n",
        "            putchar(' ');\n",
        "        else\n",
        "            putchar(s[i]);\n",
        "        i++;\n",
        "    }\n",
        "\n",
        "    return 0;\n",
        "}\n"
      ],
      "metadata": {
        "id": "Yiq2uiu2woqZ",
        "outputId": "f66d67c5-b26e-4abd-9607-4e47e2464c6a",
        "colab": {
          "base_uri": "https://localhost:8080/"
        }
      },
      "execution_count": 5,
      "outputs": [
        {
          "output_type": "stream",
          "name": "stdout",
          "text": [
            "Overwriting p.c\n"
          ]
        }
      ]
    },
    {
      "cell_type": "code",
      "source": [
        "!ls"
      ],
      "metadata": {
        "id": "-4QJuXfAwsTg",
        "outputId": "c42ef4e3-317a-41ef-ff5f-9549b7832a14",
        "colab": {
          "base_uri": "https://localhost:8080/"
        }
      },
      "execution_count": 6,
      "outputs": [
        {
          "output_type": "stream",
          "name": "stdout",
          "text": [
            "p.c  sample_data\n"
          ]
        }
      ]
    },
    {
      "cell_type": "code",
      "source": [
        "!gcc p.c"
      ],
      "metadata": {
        "id": "ufV5M253wz0h"
      },
      "execution_count": 7,
      "outputs": []
    },
    {
      "cell_type": "code",
      "source": [
        "!./a.out"
      ],
      "metadata": {
        "id": "i_6Rbuw1xAI_",
        "outputId": "1e97a7b5-9d38-4129-b6bd-e886952c3c7c",
        "colab": {
          "base_uri": "https://localhost:8080/"
        }
      },
      "execution_count": null,
      "outputs": [
        {
          "output_type": "stream",
          "name": "stdout",
          "text": [
            "Enter the string: "
          ]
        }
      ]
    }
  ]
}