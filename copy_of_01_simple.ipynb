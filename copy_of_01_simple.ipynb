{
  "nbformat": 4,
  "nbformat_minor": 0,
  "metadata": {
    "colab": {
      "provenance": [],
      "include_colab_link": true
    },
    "kernelspec": {
      "name": "python3",
      "display_name": "Python 3"
    }
  },
  "cells": [
    {
      "cell_type": "markdown",
      "metadata": {
        "id": "view-in-github",
        "colab_type": "text"
      },
      "source": [
        "<a href=\"https://colab.research.google.com/github/bhumikanr/udcoy/blob/main/copy_of_01_simple.ipynb\" target=\"_parent\"><img src=\"https://colab.research.google.com/assets/colab-badge.svg\" alt=\"Open In Colab\"/></a>"
      ]
    },
    {
      "cell_type": "markdown",
      "metadata": {
        "id": "CmaRC_vtUkVM"
      },
      "source": [
        "# Simple C Programming with Google Colab\n",
        "\n",
        "- Instructir: Jeong-Gun Lee (School of Software, Hallym University)\n",
        "- Email: jeonggun.lee@gmail.com\n",
        "- Web: http://www.onchp.net\n"
      ]
    },
    {
      "cell_type": "markdown",
      "metadata": {
        "id": "tTHsRoTeVv9u"
      },
      "source": [
        "You can make a simple C code with the name of **codename.c** through [ %%writefile codename.c ]"
      ]
    },
    {
      "cell_type": "code",
      "metadata": {
        "id": "6kfdjeSwTN2p",
        "outputId": "b0a36b50-ed62-4ab7-cdee-01b486890402",
        "colab": {
          "base_uri": "https://localhost:8080/",
          "height": 35
        }
      },
      "source": [
        "%%writefile prog.c\n",
        "\n",
        "#include<stdio.h>\n",
        "\n",
        "int main(void)\n",
        "{\n",
        "    printf(\"Hello World!~~~\");\n",
        "\n",
        "    return 0;  // 정상 완료\n",
        "}"
      ],
      "execution_count": null,
      "outputs": [
        {
          "output_type": "stream",
          "text": [
            "Writing prog.c\n"
          ],
          "name": "stdout"
        }
      ]
    },
    {
      "cell_type": "code",
      "metadata": {
        "id": "I1QFktLNUGD1",
        "outputId": "570745cd-f96c-460f-838b-60a19c53b97c",
        "colab": {
          "base_uri": "https://localhost:8080/",
          "height": 35
        }
      },
      "source": [
        "!ls"
      ],
      "execution_count": null,
      "outputs": [
        {
          "output_type": "stream",
          "text": [
            "prog.c\tsample_data\n"
          ],
          "name": "stdout"
        }
      ]
    },
    {
      "cell_type": "code",
      "metadata": {
        "id": "OT9t0yXdUNzI"
      },
      "source": [
        "!gcc -o hello prog.c"
      ],
      "execution_count": null,
      "outputs": []
    },
    {
      "cell_type": "code",
      "metadata": {
        "id": "0uoBCc8UUXyn",
        "outputId": "e06d0bf3-9e4a-4489-e17d-26bf14cfc7fd",
        "colab": {
          "base_uri": "https://localhost:8080/",
          "height": 35
        }
      },
      "source": [
        "!./hello"
      ],
      "execution_count": null,
      "outputs": [
        {
          "output_type": "stream",
          "text": [
            "Hello World!~~~"
          ],
          "name": "stdout"
        }
      ]
    }
  ]
}