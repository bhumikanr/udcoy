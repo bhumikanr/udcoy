{
  "nbformat": 4,
  "nbformat_minor": 0,
  "metadata": {
    "colab": {
      "provenance": [],
      "include_colab_link": true
    },
    "kernelspec": {
      "name": "python3",
      "display_name": "Python 3"
    }
  },
  "cells": [
    {
      "cell_type": "markdown",
      "metadata": {
        "id": "view-in-github",
        "colab_type": "text"
      },
      "source": [
        "<a href=\"https://colab.research.google.com/github/bhumikanr/udcoy/blob/main/Copy_of_01_simple.ipynb\" target=\"_parent\"><img src=\"https://colab.research.google.com/assets/colab-badge.svg\" alt=\"Open In Colab\"/></a>"
      ]
    },
    {
      "cell_type": "markdown",
      "source": [
        "reverse number"
      ],
      "metadata": {
        "id": "FBqyw4V4rqym"
      }
    },
    {
      "cell_type": "code",
      "metadata": {
        "id": "6kfdjeSwTN2p",
        "outputId": "9d782d4e-deff-4da1-d979-36bfdd3ac420",
        "colab": {
          "base_uri": "https://localhost:8080/"
        }
      },
      "source": [
        "%%writefile hell.c\n",
        "#include<stdio.h>\n",
        "int main () {\n",
        "    int n,a;\n",
        "\n",
        "    long int revnum=0;\n",
        "    printf(\"enter the five degits number(less than 32767)\\n\");\n",
        "    scanf(\"%d\",&n);\n",
        "\n",
        "        a=n%10;\n",
        "        revnum=revnum+a*10000;\n",
        "        n=n/10;\n",
        "\n",
        "        a=n%10;\n",
        "        revnum=revnum+a*1000;\n",
        "        n=n/10;\n",
        "\n",
        "        a=n%10;\n",
        "        revnum=revnum+a*100;\n",
        "        n=n/10;\n",
        "\n",
        "        a=n%10;\n",
        "        revnum=revnum+a*10;\n",
        "        n=n/10;\n",
        "\n",
        "        a=n%10;\n",
        "        revnum=revnum+a;\n",
        "\n",
        "     printf(\"the reverse number is %ld\",revnum);\n",
        "}"
      ],
      "execution_count": null,
      "outputs": [
        {
          "output_type": "stream",
          "name": "stdout",
          "text": [
            "Writing hell.c\n"
          ]
        }
      ]
    },
    {
      "cell_type": "code",
      "metadata": {
        "id": "I1QFktLNUGD1",
        "outputId": "e504b81d-8edc-4e30-c8ad-d3ca16e1ff9c",
        "colab": {
          "base_uri": "https://localhost:8080/"
        }
      },
      "source": [
        "!ls"
      ],
      "execution_count": null,
      "outputs": [
        {
          "output_type": "stream",
          "name": "stdout",
          "text": [
            "hell.c\tsample_data\n"
          ]
        }
      ]
    },
    {
      "cell_type": "code",
      "metadata": {
        "id": "eKihNbD_UHYB",
        "outputId": "ccf44fcf-65fc-4308-dc0f-7528dcbcbe4a",
        "colab": {
          "base_uri": "https://localhost:8080/",
          "height": 107
        }
      },
      "source": [
        "!gcc --version"
      ],
      "execution_count": null,
      "outputs": [
        {
          "output_type": "stream",
          "text": [
            "gcc (Ubuntu 7.4.0-1ubuntu1~18.04) 7.4.0\n",
            "Copyright (C) 2017 Free Software Foundation, Inc.\n",
            "This is free software; see the source for copying conditions.  There is NO\n",
            "warranty; not even for MERCHANTABILITY or FITNESS FOR A PARTICULAR PURPOSE.\n",
            "\n"
          ],
          "name": "stdout"
        }
      ]
    },
    {
      "cell_type": "code",
      "metadata": {
        "id": "OT9t0yXdUNzI"
      },
      "source": [
        "!gcc hell.c"
      ],
      "execution_count": null,
      "outputs": []
    },
    {
      "cell_type": "code",
      "metadata": {
        "id": "0uoBCc8UUXyn",
        "outputId": "39ed37a1-96ce-41bf-b32a-546c4653fdbb",
        "colab": {
          "base_uri": "https://localhost:8080/"
        }
      },
      "source": [
        "!./a.out"
      ],
      "execution_count": null,
      "outputs": [
        {
          "output_type": "stream",
          "name": "stdout",
          "text": [
            "enter the five degits number(less than 32767)\n",
            "55487\n",
            "the reverse number is 78455"
          ]
        }
      ]
    },
    {
      "cell_type": "markdown",
      "source": [
        " 2 Matrix multiplication"
      ],
      "metadata": {
        "id": "rvu3Jmd2t47t"
      }
    },
    {
      "cell_type": "code",
      "source": [
        "%%writefile hello.c\n",
        "#include <stdio.h>\n",
        "\n",
        "int main() {\n",
        "    int a[10][10], b[10][10], result[10][10];\n",
        "    int r1, c1, r2, c2;\n",
        "\n",
        "\n",
        "    printf(\"Enter rows and columns for first matrix: \");\n",
        "    scanf(\"%d%d\", &r1, &c1);\n",
        "\n",
        "    printf(\"Enter rows and columns for second matrix: \");\n",
        "    scanf(\"%d%d\", &r2, &c2);\n",
        "\n",
        "\n",
        "    if (c1 != r2) {\n",
        "        printf(\"Matrix multiplication not possible.\\n\");\n",
        "        return 0;\n",
        "    }\n",
        "\n",
        "\n",
        "    printf(\"Enter elements of first matrix:\\n\");\n",
        "    for (int i = 0; i < r1; i++)\n",
        "        for (int j = 0; j < c1; j++)\n",
        "            scanf(\"%d\", &a[i][j]);\n",
        "\n",
        "\n",
        "    printf(\"Enter elements of second matrix:\\n\");\n",
        "    for (int i = 0; i < r2; i++)\n",
        "        for (int j = 0; j < c2; j++)\n",
        "            scanf(\"%d\", &b[i][j]);\n",
        "\n",
        "    for (int i = 0; i < r1; i++) {\n",
        "        for (int j = 0; j < c2; j++) {\n",
        "            result[i][j] = 0;\n",
        "            for (int k = 0; k < c1; k++) {\n",
        "                result[i][j] += a[i][k] * b[k][j];\n",
        "            }\n",
        "        }\n",
        "    }\n",
        "\n",
        "\n",
        "    printf(\"Resultant matrix:\\n\");\n",
        "    for (int i = 0; i < r1; i++) {\n",
        "        for (int j = 0; j < c2; j++) {\n",
        "            printf(\"%d \", result[i][j]);\n",
        "        }\n",
        "        printf(\"\\n\");\n",
        "    }\n",
        "\n",
        "    return 0;\n",
        "}\n"
      ],
      "metadata": {
        "colab": {
          "base_uri": "https://localhost:8080/"
        },
        "id": "JprsaKW6uBuL",
        "outputId": "149f530b-cf6f-41b8-9f2f-49b624377a45"
      },
      "execution_count": null,
      "outputs": [
        {
          "output_type": "stream",
          "name": "stdout",
          "text": [
            "Writing hello.c\n"
          ]
        }
      ]
    },
    {
      "cell_type": "code",
      "source": [
        "!ls"
      ],
      "metadata": {
        "colab": {
          "base_uri": "https://localhost:8080/"
        },
        "id": "TzH9ofKqubbv",
        "outputId": "f118fe32-2c9a-4563-f1dd-493576cbe51d"
      },
      "execution_count": null,
      "outputs": [
        {
          "output_type": "stream",
          "name": "stdout",
          "text": [
            "hello.c  sample_data\n"
          ]
        }
      ]
    },
    {
      "cell_type": "code",
      "source": [
        "!gcc hello.c"
      ],
      "metadata": {
        "id": "0CC1cwiVuhG4"
      },
      "execution_count": null,
      "outputs": []
    },
    {
      "cell_type": "code",
      "source": [
        "!./a.out"
      ],
      "metadata": {
        "colab": {
          "base_uri": "https://localhost:8080/"
        },
        "id": "LOFfWZ-8usk2",
        "outputId": "6b1d473d-a238-403d-c614-888012559c05"
      },
      "execution_count": null,
      "outputs": [
        {
          "output_type": "stream",
          "name": "stdout",
          "text": [
            "Enter rows and columns for first matrix: 2 3\n",
            "Enter rows and columns for second matrix: 3 2\n",
            "Enter elements of first matrix:\n",
            "1 2 3 \n",
            "4 5 6\n",
            "Enter elements of second matrix:\n",
            "7 8\n",
            "9 3\n",
            "12 13\n",
            "Resultant matrix:\n",
            "61 53 \n",
            "145 125 \n"
          ]
        }
      ]
    },
    {
      "cell_type": "markdown",
      "source": [
        " 3 string"
      ],
      "metadata": {
        "id": "gklfrQXTvsus"
      }
    },
    {
      "cell_type": "code",
      "source": [
        "%%writefile p.c\n",
        "#include <stdio.h>\n",
        "\n",
        "int main() {\n",
        "    char s[80];\n",
        "    int i = 0;\n",
        "\n",
        "    printf(\"Enter the string: \");\n",
        "    fgets(s, sizeof(s), stdin);\n",
        "\n",
        "    while (s[i] != '\\0') {\n",
        "        if (s[i] == 'a' || s[i] == 'e' || s[i] == 'i' || s[i] == 'o' || s[i] == 'u')\n",
        "            putchar(' ');\n",
        "        else\n",
        "            putchar(s[i]);\n",
        "        i++;\n",
        "    }\n",
        "\n",
        "    return 0;\n",
        "}\n"
      ],
      "metadata": {
        "colab": {
          "base_uri": "https://localhost:8080/"
        },
        "id": "Yiq2uiu2woqZ",
        "outputId": "24e3c681-563f-43d7-d60d-e3c9047a1490"
      },
      "execution_count": null,
      "outputs": [
        {
          "output_type": "stream",
          "name": "stdout",
          "text": [
            "Writing p.c\n"
          ]
        }
      ]
    },
    {
      "cell_type": "code",
      "source": [
        "!ls"
      ],
      "metadata": {
        "colab": {
          "base_uri": "https://localhost:8080/"
        },
        "id": "-4QJuXfAwsTg",
        "outputId": "909de950-e0b1-4389-81ba-8d6de0cd0fce"
      },
      "execution_count": null,
      "outputs": [
        {
          "output_type": "stream",
          "name": "stdout",
          "text": [
            "a.out  p.c  sample_data  sar.c\n"
          ]
        }
      ]
    },
    {
      "cell_type": "code",
      "source": [
        "!gcc p.c"
      ],
      "metadata": {
        "id": "ufV5M253wz0h"
      },
      "execution_count": null,
      "outputs": []
    },
    {
      "cell_type": "code",
      "source": [
        "!./a.out"
      ],
      "metadata": {
        "colab": {
          "base_uri": "https://localhost:8080/"
        },
        "id": "i_6Rbuw1xAI_",
        "outputId": "ff0f6782-87c4-45ab-d332-f22d9517f341"
      },
      "execution_count": null,
      "outputs": [
        {
          "output_type": "stream",
          "name": "stdout",
          "text": [
            "Enter the string: bhumika\n",
            "bh m k \n"
          ]
        }
      ]
    },
    {
      "cell_type": "markdown",
      "source": [
        "4 sarting"
      ],
      "metadata": {
        "id": "yjun9kj5B7qj"
      }
    },
    {
      "cell_type": "code",
      "source": [
        "%%writefile sar.c\n",
        "#include<stdio.h>\n",
        "int main()\n",
        "{\n",
        "  int a[10],i,j,k,t;\n",
        "  printf(\"enter number \\n\");\n",
        "  for(i=0;i<=9;i++)\n",
        "  scanf(\"%d\",&a[i]);\n",
        "  for(i=0;i<=9;i++)\n",
        "  {\n",
        "    t=a[i];\n",
        "    for(j=0;j<=9;j++)\n",
        "    {\n",
        "      if(k<a[j])\n",
        "      {\n",
        "        for(k=1;k<=j;j--)\n",
        "        a[k]=a[k-1];\n",
        "        a[j]=t;\n",
        "        break;\n",
        "      }\n",
        "\n",
        "\n",
        "    }\n",
        "  }\n",
        "  printf(\"sarted number \\n\");\n",
        "  for(i=0;i<=9;i++)\n",
        "  {\n",
        "    printf(\"%d \",a[i]);\n",
        "  }\n",
        "}"
      ],
      "metadata": {
        "colab": {
          "base_uri": "https://localhost:8080/"
        },
        "id": "-eYbDhMrB6aY",
        "outputId": "31295366-f235-42b7-f47d-009cd0422188"
      },
      "execution_count": null,
      "outputs": [
        {
          "output_type": "stream",
          "name": "stdout",
          "text": [
            "Overwriting sar.c\n"
          ]
        }
      ]
    },
    {
      "cell_type": "code",
      "source": [
        "!ls"
      ],
      "metadata": {
        "colab": {
          "base_uri": "https://localhost:8080/"
        },
        "id": "wi5xerUHCCAl",
        "outputId": "54b5a4ab-1b56-4e94-f67d-cf41850f28db"
      },
      "execution_count": null,
      "outputs": [
        {
          "output_type": "stream",
          "name": "stdout",
          "text": [
            "sample_data  sar.c\n"
          ]
        }
      ]
    },
    {
      "cell_type": "code",
      "source": [
        "!gcc sar.c\n"
      ],
      "metadata": {
        "id": "P7JlmO-7CGeI"
      },
      "execution_count": null,
      "outputs": []
    },
    {
      "cell_type": "code",
      "source": [
        "!./a.out"
      ],
      "metadata": {
        "colab": {
          "base_uri": "https://localhost:8080/"
        },
        "id": "2d7qtCSTCMHN",
        "outputId": "94670ca8-c182-4227-82e6-0e0ef47203d1"
      },
      "execution_count": null,
      "outputs": [
        {
          "output_type": "stream",
          "name": "stdout",
          "text": [
            "enter number \n",
            "9\n",
            "6\n",
            "8\n",
            "2\n",
            "6\n",
            "7\n",
            "25\n",
            "36\n",
            "56\n",
            "45\n",
            "sarted number \n",
            "45 6 8 2 6 7 25 36 56 45 "
          ]
        }
      ]
    },
    {
      "cell_type": "markdown",
      "source": [
        "perfect square"
      ],
      "metadata": {
        "id": "wswn4jBsbQgh"
      }
    },
    {
      "cell_type": "code",
      "source": [
        "%%writefile prg.c\n",
        "\n",
        "#include <stdio.h>\n",
        "#include <math.h>\n",
        "\n",
        "int main() {\n",
        "    for (int num = 1000; num <= 9999; num++) {\n",
        "        int root = (int)sqrt(num);\n",
        "        if (root * root == num) {\n",
        "            int thousands = num / 1000;\n",
        "            int hundreds = (num / 100) % 10;\n",
        "            int tens = (num / 10) % 10;\n",
        "            int ones = num % 10;\n",
        "\n",
        "\n",
        "            if (thousands == hundreds && tens == ones && thousands != tens) {\n",
        "                printf(\"Found AABB perfect square: %d\\n\", num);\n",
        "            }\n",
        "        }\n",
        "    }\n",
        "    return 0;\n",
        "}"
      ],
      "metadata": {
        "colab": {
          "base_uri": "https://localhost:8080/"
        },
        "id": "J4bm9KrAbT1T",
        "outputId": "8b7db82a-5098-4764-fb88-cb9cd2cc726f"
      },
      "execution_count": null,
      "outputs": [
        {
          "output_type": "stream",
          "name": "stdout",
          "text": [
            "Overwriting prg.c\n"
          ]
        }
      ]
    },
    {
      "cell_type": "code",
      "source": [
        "!ls"
      ],
      "metadata": {
        "colab": {
          "base_uri": "https://localhost:8080/"
        },
        "id": "Dj2buxivblye",
        "outputId": "cc28e93d-edbb-469a-f56b-25c66fd1b4e4"
      },
      "execution_count": null,
      "outputs": [
        {
          "output_type": "stream",
          "name": "stdout",
          "text": [
            "prg.c  sample_data\n"
          ]
        }
      ]
    },
    {
      "cell_type": "code",
      "source": [
        "!gcc  prg.c -lm"
      ],
      "metadata": {
        "id": "9Z96mZirbrFG"
      },
      "execution_count": null,
      "outputs": []
    },
    {
      "cell_type": "code",
      "source": [
        "!./a.out"
      ],
      "metadata": {
        "colab": {
          "base_uri": "https://localhost:8080/"
        },
        "id": "no4s5Q95byd8",
        "outputId": "c6a6d776-18c4-4272-bd7f-f6603cc20336"
      },
      "execution_count": null,
      "outputs": [
        {
          "output_type": "stream",
          "name": "stdout",
          "text": [
            "Found AABB perfect square: 7744\n"
          ]
        }
      ]
    },
    {
      "cell_type": "markdown",
      "source": [],
      "metadata": {
        "id": "PSrN2Xz0d5iN"
      }
    },
    {
      "cell_type": "code",
      "source": [
        "%%writefile pr.c\n",
        "\n",
        "#include<stdio.h>\n",
        "int main()\n",
        "{\n",
        "    int i,j,k,l;\n",
        "    for(l=1;l<=10;l++)\n",
        "    for(k=1;k<l;k++)\n",
        "    {\n",
        "         for(j=1;j<k;j++)\n",
        "         {\n",
        "             for(i=1;i<j;i++)\n",
        "             {\n",
        "                 if(i+j+k==l)\n",
        "                 printf(\"%d %d %d\\n\",i,j,k);\n",
        "             }\n",
        "         }\n",
        "    }\n",
        "    return 0;\n",
        "}"
      ],
      "metadata": {
        "colab": {
          "base_uri": "https://localhost:8080/"
        },
        "id": "Ogm1pO-XeBsJ",
        "outputId": "4c176383-7024-4a4a-b2d5-0541ce21da8d"
      },
      "execution_count": null,
      "outputs": [
        {
          "output_type": "stream",
          "name": "stdout",
          "text": [
            "Writing pr.c\n"
          ]
        }
      ]
    },
    {
      "cell_type": "code",
      "source": [
        "!ls"
      ],
      "metadata": {
        "colab": {
          "base_uri": "https://localhost:8080/"
        },
        "id": "mw5jr67UfrTX",
        "outputId": "80dd901f-55a9-4838-e0c2-54e714cb74dc"
      },
      "execution_count": null,
      "outputs": [
        {
          "output_type": "stream",
          "name": "stdout",
          "text": [
            "pr.c  sample_data\n"
          ]
        }
      ]
    },
    {
      "cell_type": "code",
      "source": [
        "!gcc  pr.c -lm"
      ],
      "metadata": {
        "id": "sxO0u4V3fxz-"
      },
      "execution_count": null,
      "outputs": []
    },
    {
      "cell_type": "code",
      "source": [
        "!./a.out"
      ],
      "metadata": {
        "colab": {
          "base_uri": "https://localhost:8080/"
        },
        "id": "_Jpa0Tkhf5Lk",
        "outputId": "a63f9256-4492-478b-989a-1fdacb9cb34d"
      },
      "execution_count": null,
      "outputs": [
        {
          "output_type": "stream",
          "name": "stdout",
          "text": [
            "1 2 3\n",
            "1 2 4\n",
            "1 3 4\n",
            "1 2 5\n",
            "2 3 4\n",
            "1 3 5\n",
            "1 2 6\n",
            "2 3 5\n",
            "1 4 5\n",
            "1 3 6\n",
            "1 2 7\n"
          ]
        }
      ]
    },
    {
      "cell_type": "markdown",
      "source": [
        "pythagorean triples c program"
      ],
      "metadata": {
        "id": "zJrGkPvjXmua"
      }
    },
    {
      "cell_type": "code",
      "source": [
        "%%writefile py.c\n",
        "#include <stdio.h>\n",
        "\n",
        "int main() {\n",
        "    int limit, a, b, c;\n",
        "\n",
        "    printf(\"Enter the upper limit for the triplets: \");\n",
        "    scanf(\"%d\", &limit);\n",
        "\n",
        "    printf(\"Pythagorean Triplets up to %d:\\n\", limit);\n",
        "    for (a = 1; a <= limit; a++) {\n",
        "        for (b = a; b <= limit; b++) {\n",
        "            for (c = b; c <= limit; c++) {\n",
        "                if (a * a + b * b == c * c) {\n",
        "                    printf(\"(%d, %d, %d)\\n\", a, b, c);\n",
        "                }\n",
        "            }\n",
        "        }\n",
        "    }\n",
        "\n",
        "    return 0;\n",
        "}\n"
      ],
      "metadata": {
        "id": "WDrAAL2bayA8",
        "outputId": "f1db28ca-aa8f-4707-8f3b-f1f3d3a4eb66",
        "colab": {
          "base_uri": "https://localhost:8080/"
        }
      },
      "execution_count": null,
      "outputs": [
        {
          "output_type": "stream",
          "name": "stdout",
          "text": [
            "Writing py.c\n"
          ]
        }
      ]
    },
    {
      "cell_type": "code",
      "source": [
        "!ls"
      ],
      "metadata": {
        "id": "vcHydY5RbU-8",
        "outputId": "9221493c-304c-4f0e-a423-67d19e097fbb",
        "colab": {
          "base_uri": "https://localhost:8080/"
        }
      },
      "execution_count": null,
      "outputs": [
        {
          "output_type": "stream",
          "name": "stdout",
          "text": [
            "py.c  sample_data\n"
          ]
        }
      ]
    },
    {
      "cell_type": "code",
      "source": [
        "!gcc py.c"
      ],
      "metadata": {
        "id": "bLyn5y5rbYrK"
      },
      "execution_count": null,
      "outputs": []
    },
    {
      "cell_type": "code",
      "source": [
        "!./a.out"
      ],
      "metadata": {
        "id": "c2KF1QqcbgUu",
        "outputId": "5764b28e-e652-4d2b-87a1-ab77bcb6c906",
        "colab": {
          "base_uri": "https://localhost:8080/"
        }
      },
      "execution_count": null,
      "outputs": [
        {
          "output_type": "stream",
          "name": "stdout",
          "text": [
            "Enter the upper limit for the triplets: 20\n",
            "Pythagorean Triplets up to 20:\n",
            "(3, 4, 5)\n",
            "(5, 12, 13)\n",
            "(6, 8, 10)\n",
            "(8, 15, 17)\n",
            "(9, 12, 15)\n",
            "(12, 16, 20)\n"
          ]
        }
      ]
    },
    {
      "cell_type": "markdown",
      "source": [
        "Pythagorean Triplet from a and b\n"
      ],
      "metadata": {
        "id": "ZWSjPp2GcBOb"
      }
    },
    {
      "cell_type": "code",
      "source": [
        "%%writefile pt.c\n",
        "#include <stdio.h>\n",
        "#include <math.h>\n",
        "\n",
        "int main() {\n",
        "    int a, b;\n",
        "    double c_squared, c;\n",
        "\n",
        "\n",
        "    printf(\"Enter two numbers (a and b): \");\n",
        "    scanf(\"%d %d\", &a, &b);\n",
        "\n",
        "\n",
        "    c_squared = a * a + b * b;\n",
        "    c = sqrt(c_squared);\n",
        "\n",
        "\n",
        "    printf(\"%d^2 = %d\\n\", a, a * a);\n",
        "    printf(\"%d^2 = %d\\n\", b, b * b);\n",
        "    printf(\"%d^2 + %d^2 = %.0f\\n\", a, b, c_squared);\n",
        "    printf(\"sqrt(%.0f) = %.2f\\n\", c_squared, c);\n",
        "\n",
        "\n",
        "    if (c == (int)c) {\n",
        "        printf(\"Result: (%d, %d, %d) is a Pythagorean triplet.\\n\", a, b, (int)c);\n",
        "    } else {\n",
        "        printf(\"Result: No, (%d, %d, ?) does not form a Pythagorean triplet.\\n\", a, b);\n",
        "    }\n",
        "\n",
        "    return 0;\n",
        "}\n"
      ],
      "metadata": {
        "id": "8Lgrl7zJeLta",
        "outputId": "eec479db-ee8b-40e8-d8a7-60c36540e6b1",
        "colab": {
          "base_uri": "https://localhost:8080/"
        }
      },
      "execution_count": null,
      "outputs": [
        {
          "output_type": "stream",
          "name": "stdout",
          "text": [
            "Writing pt.c\n"
          ]
        }
      ]
    },
    {
      "cell_type": "code",
      "source": [
        "!ls"
      ],
      "metadata": {
        "id": "3ivRqF67eeef",
        "outputId": "682257ad-e146-4e6b-c690-93529b87a023",
        "colab": {
          "base_uri": "https://localhost:8080/"
        }
      },
      "execution_count": null,
      "outputs": [
        {
          "output_type": "stream",
          "name": "stdout",
          "text": [
            "a.out  pt.c  py.c  sample_data\n"
          ]
        }
      ]
    },
    {
      "cell_type": "code",
      "source": [
        "!gcc pt.c -lm"
      ],
      "metadata": {
        "id": "ykmucgqCegcG"
      },
      "execution_count": null,
      "outputs": []
    },
    {
      "cell_type": "code",
      "source": [
        "!./a.out"
      ],
      "metadata": {
        "id": "lmQSceysepcB",
        "outputId": "819b8bd7-3b4c-488b-ac6c-666cb887d219",
        "colab": {
          "base_uri": "https://localhost:8080/"
        }
      },
      "execution_count": null,
      "outputs": [
        {
          "output_type": "stream",
          "name": "stdout",
          "text": [
            "Enter two numbers (a and b): 12 21\n",
            "12^2 = 144\n",
            "21^2 = 441\n",
            "12^2 + 21^2 = 585\n",
            "sqrt(585) = 24.19\n",
            "Result: No, (12, 21, ?) does not form a Pythagorean triplet.\n"
          ]
        }
      ]
    },
    {
      "cell_type": "markdown",
      "source": [
        "Pythagorean Triplet with float or double Values"
      ],
      "metadata": {
        "id": "hiITbHYOfnX1"
      }
    },
    {
      "cell_type": "code",
      "source": [
        "%%writefile ptf.c\n",
        "#include <stdio.h>\n",
        "#include <math.h>\n",
        "\n",
        "int main() {\n",
        "    double a, b, c;\n",
        "    double lhs, rhs;\n",
        "\n",
        "\n",
        "    printf(\"Enter three numbers (a, b, c): \");\n",
        "    scanf(\"%lf %lf %lf\", &a, &b, &c);\n",
        "\n",
        "\n",
        "    lhs = a * a + b * b;\n",
        "    rhs = c * c;\n",
        "\n",
        "    printf(\"%.2lf^2 + %.2lf^2 = %.2lf\\n\", a, b, lhs);\n",
        "    printf(\"%.2lf^2 = %.2lf\\n\", c, rhs);\n",
        "\n",
        "\n",
        "    if (fabs(lhs - rhs) < 0.0001) {\n",
        "        printf(\"Result: (%.2lf, %.2lf, %.2lf) is a Pythagorean triplet.\\n\", a, b, c);\n",
        "    } else {\n",
        "        printf(\"Result: Not a Pythagorean triplet.\\n\");\n",
        "    }\n",
        "\n",
        "    return 0;\n",
        "}\n"
      ],
      "metadata": {
        "id": "GyAsywygfopq",
        "outputId": "c785b8cd-fd2b-4b73-f66e-2371d97849f4",
        "colab": {
          "base_uri": "https://localhost:8080/"
        }
      },
      "execution_count": null,
      "outputs": [
        {
          "output_type": "stream",
          "name": "stdout",
          "text": [
            "Writing ptf.c\n"
          ]
        }
      ]
    },
    {
      "cell_type": "code",
      "source": [
        "!ls"
      ],
      "metadata": {
        "id": "8evb-YVvf38Y",
        "outputId": "9ae69503-9455-48ee-e344-f5627b8f3cd1",
        "colab": {
          "base_uri": "https://localhost:8080/"
        }
      },
      "execution_count": null,
      "outputs": [
        {
          "output_type": "stream",
          "name": "stdout",
          "text": [
            "a.out  pt.c  ptf.c  py.c  sample_data\n"
          ]
        }
      ]
    },
    {
      "cell_type": "code",
      "source": [
        "!gcc ptf.c"
      ],
      "metadata": {
        "id": "60ulgjHmf7Ft"
      },
      "execution_count": null,
      "outputs": []
    },
    {
      "cell_type": "code",
      "source": [
        "!./a.out"
      ],
      "metadata": {
        "id": "ZfXFpZtwf_6R",
        "outputId": "09623dbc-ab3b-4ebe-fa90-80778d0728d7",
        "colab": {
          "base_uri": "https://localhost:8080/"
        }
      },
      "execution_count": null,
      "outputs": [
        {
          "output_type": "stream",
          "name": "stdout",
          "text": [
            "Enter three numbers (a, b, c): 5 -5,10 -10\n",
            "5.00^2 + -5.00^2 = 50.00\n",
            "0.00^2 = 0.00\n",
            "Result: Not a Pythagorean triplet.\n"
          ]
        }
      ]
    },
    {
      "cell_type": "markdown",
      "source": [
        "fibonaci\n"
      ],
      "metadata": {
        "id": "3CPmdfl6yhiC"
      }
    },
    {
      "cell_type": "code",
      "source": [
        "%%writefile prgf.c\n",
        "#include<stdio.h>\n",
        "void fibo(int old,int current);\n",
        "int main()\n",
        "{\n",
        "  int old=0,current=1,numterm;\n",
        "  printf(\"fibonaci sequency:\");\n",
        "  printf(\"%d %d\",old,current);\n",
        "  fibo(old,current);\n",
        "}\n",
        "void fibo(int old,int current)\n",
        "{\n",
        "  static int numterms=2;\n",
        "  int numterm;\n",
        "  if(numterm<20)\n",
        "{\n",
        "numterm = old+current;\n",
        "printf(\"%d\",numterm);\n",
        "numterm++;\n",
        "fibo(current,numterm);\n",
        "}\n",
        "else\n",
        "\n",
        "return ;\n",
        "}"
      ],
      "metadata": {
        "id": "Xj_i4SssyuRi",
        "outputId": "a098085a-c57e-4f39-e21e-1e6a71f2246f",
        "colab": {
          "base_uri": "https://localhost:8080/"
        }
      },
      "execution_count": null,
      "outputs": [
        {
          "output_type": "stream",
          "name": "stdout",
          "text": [
            "Overwriting prgf.c\n"
          ]
        }
      ]
    },
    {
      "cell_type": "code",
      "source": [
        "!ls"
      ],
      "metadata": {
        "id": "pXnJ8rHKyxGP",
        "outputId": "8ce8a843-4784-492f-c598-03a90101aa63",
        "colab": {
          "base_uri": "https://localhost:8080/"
        }
      },
      "execution_count": null,
      "outputs": [
        {
          "output_type": "stream",
          "name": "stdout",
          "text": [
            "a.out  pr.c  prgf.c  sample_data\n"
          ]
        }
      ]
    },
    {
      "cell_type": "code",
      "source": [
        "!gcc prgf.c"
      ],
      "metadata": {
        "id": "HphcNuhwyzLi"
      },
      "execution_count": null,
      "outputs": []
    },
    {
      "cell_type": "code",
      "source": [
        "!./a.out"
      ],
      "metadata": {
        "id": "QUiKADUpzTi-",
        "outputId": "d966aba2-fe8c-4c7c-ed68-8f34117544a6",
        "colab": {
          "base_uri": "https://localhost:8080/"
        }
      },
      "execution_count": null,
      "outputs": [
        {
          "output_type": "stream",
          "name": "stdout",
          "text": [
            "fibonaci sequency:0 1136"
          ]
        }
      ]
    }
  ]
}