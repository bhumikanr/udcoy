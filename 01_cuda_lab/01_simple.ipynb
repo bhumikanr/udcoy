{
  "nbformat": 4,
  "nbformat_minor": 0,
  "metadata": {
    "colab": {
      "name": "01_simple.ipynb",
      "provenance": [],
      "include_colab_link": true
    },
    "kernelspec": {
      "name": "python3",
      "display_name": "Python 3"
    }
  },
  "cells": [
    {
      "cell_type": "markdown",
      "metadata": {
        "id": "view-in-github",
        "colab_type": "text"
      },
      "source": [
        "<a href=\"https://colab.research.google.com/github/bhumikanr/udcoy/blob/main/01_cuda_lab/01_simple.ipynb\" target=\"_parent\"><img src=\"https://colab.research.google.com/assets/colab-badge.svg\" alt=\"Open In Colab\"/></a>"
      ]
    },
    {
      "cell_type": "markdown",
      "metadata": {
        "id": "CmaRC_vtUkVM"
      },
      "source": [
        "# Simple C Programming with Google Colab\n",
        "\n",
        "- Instructir: Jeong-Gun Lee (School of Software, Hallym University)\n",
        "- Email: jeonggun.lee@gmail.com\n",
        "- Web: http://www.onchp.net\n"
      ]
    },
    {
      "cell_type": "markdown",
      "metadata": {
        "id": "tTHsRoTeVv9u"
      },
      "source": [
        "You can make a simple C code with the name of **codename.c** through [ %%writefile codename.c ]"
      ]
    },
    {
      "cell_type": "code",
      "metadata": {
        "id": "6kfdjeSwTN2p",
        "outputId": "43db80aa-c858-4b2d-8cea-2de228abda45",
        "colab": {
          "base_uri": "https://localhost:8080/"
        }
      },
      "source": [
        "%%writefile prgf.c\n",
        "#include<stdio.h>\n",
        "void fibo(int old,int current);\n",
        "int main()\n",
        "{\n",
        "  int old=0,current=1,numterm;\n",
        "  printf(\"fibonaci sequency:\");\n",
        "  printf(\"%d %d\",old,current);\n",
        "  fibo(old,current);\n",
        "}\n",
        "void fibo(int old,int current)\n",
        "{\n",
        "  static int numterms=2;\n",
        "  int numterm;\n",
        "  if(numterm<20)\n",
        "{\n",
        "numterm = old+current;\n",
        "printf(\"%d\",numterm);\n",
        "numterm++;\n",
        "fibo(current,numterm);\n",
        "}\n",
        "else\n",
        "\n",
        "return ;\n",
        "}"
      ],
      "execution_count": 8,
      "outputs": [
        {
          "output_type": "stream",
          "name": "stdout",
          "text": [
            "Overwriting prgf.c\n"
          ]
        }
      ]
    },
    {
      "cell_type": "code",
      "source": [
        "!ls"
      ],
      "metadata": {
        "id": "MQBjyUkUvofl",
        "outputId": "161df0f5-78c9-4507-e61f-c804bcaa14e2",
        "colab": {
          "base_uri": "https://localhost:8080/"
        }
      },
      "execution_count": 9,
      "outputs": [
        {
          "output_type": "stream",
          "name": "stdout",
          "text": [
            "prgf.c\tsample_data\n"
          ]
        }
      ]
    },
    {
      "cell_type": "code",
      "source": [
        "!gcc prgf.c"
      ],
      "metadata": {
        "id": "GFpwAPNxvrUF"
      },
      "execution_count": 10,
      "outputs": []
    },
    {
      "cell_type": "code",
      "source": [
        "!./a.out"
      ],
      "metadata": {
        "id": "9DzuGgdBweJ5",
        "outputId": "cfec6764-0168-417c-8b2f-541e544474ed",
        "colab": {
          "base_uri": "https://localhost:8080/"
        }
      },
      "execution_count": 12,
      "outputs": [
        {
          "output_type": "stream",
          "name": "stdout",
          "text": [
            "fibonaci sequency:0 1136"
          ]
        }
      ]
    }
  ]
}